{
  "cells": [
    {
      "cell_type": "markdown",
      "metadata": {
        "id": "k8oVfdwrMXyc"
      },
      "source": [
        "Введите ваше ФИО:"
      ]
    },
    {
      "cell_type": "code",
      "execution_count": null,
      "metadata": {
        "id": "5mcBLsKMI1-5"
      },
      "outputs": [],
      "source": []
    },
    {
      "cell_type": "markdown",
      "metadata": {
        "id": "8HbYUbm3Jw3o"
      },
      "source": [
        "***Дисклеймер***\n",
        "\n",
        "В данной практике запрещено использования функций:\n",
        "\n",
        "\n",
        "*   sum()\n",
        "*   min()\n",
        "*   max()\n",
        "*   average()\n",
        "*   reversed()\n",
        "*   sorted()\n",
        "*   готовые функции или библиотеки\n"
      ]
    },
    {
      "cell_type": "markdown",
      "metadata": {
        "id": "HmX0c6YPJSQr"
      },
      "source": [
        "\n",
        "**Задача 1:**\n",
        "\n",
        "\n",
        "\n",
        "Интернет-магазин предлагает следующие условия скидок:\n",
        "\n",
        "*   Для заказов больше 1000 единиц, клиент получает скидку 5%. Если клиент использует промокод SUPERDISCOUNT, он получает скидку 10%.\n",
        "*  Для заказов стоимостью более 5000 единиц, клиент получает скидку 15%, а использование промокода SUPERDISCOUNT увеличивает скидку до 20%.\n",
        "\n",
        "Этап 1:\n",
        "Ввод:\n",
        "```\n",
        "Введите стоимость единицы товара: 5\n",
        "Введите количество товара: 1000\n",
        "Введите промокод: GiVEMEDISCONT\n",
        "```\n",
        "\n",
        "Вывод:\n",
        "\n",
        "```\n",
        "Ваша скидка: 5%\n",
        "Итоговая сумма: 4750.0\n",
        "```\n",
        "Этап 2:\n",
        "\n",
        "Оформите ваш код в виде функции"
      ]
    },
    {
      "cell_type": "code",
      "execution_count": null,
      "metadata": {
        "colab": {
          "base_uri": "https://localhost:8080/"
        },
        "id": "OAIMIpklMN5D",
        "outputId": "6a0f0f2a-606b-4031-d7a3-3e5c554e8342"
      },
      "outputs": [],
      "source": [
        "def calculate_discount(price, quantity, promocode):\n",
        "  total_price = price * quantity\n",
        "  discount = 0\n",
        "  if 1000 < total_price <= 5000:\n",
        "    discount = 5\n",
        "    if promocode == 'SUPERDISCOUNT':\n",
        "      discount += 5\n",
        "  elif total_price > 5000:\n",
        "    discount = 15\n",
        "    if promocode == 'SUPERDISCOUNT':\n",
        "      discount += 5\n",
        "  return f'Ваша скидка: {discount}%\\nИтоговая сумма: {total_price * (1 - discount/100)}'\n",
        "\n",
        "\n",
        "price = int(input('Введите стоимость единицы товара: '))\n",
        "quantity = int(input('Введите количество товара: '))\n",
        "promocode = input('Введите промокод: ')\n",
        "\n",
        "print(calculate_discount(price, quantity, promocode))"
      ]
    },
    {
      "cell_type": "markdown",
      "metadata": {
        "id": "eeRVWpuLNGJ0"
      },
      "source": [
        "**Задача 2:**\n",
        "\n",
        "Этап 1:\n",
        "Напишите программу способную отфильтровать список и вывести только положительные элементы\n",
        "\n",
        "\n",
        "Ввод:\n",
        "```\n",
        "-1 5 1 2 -3\n",
        "```\n",
        "\n",
        "Вывод:\n",
        "\n",
        "```\n",
        "5 1 2\n",
        "```\n",
        "\n",
        "Этап 2:\n",
        "\n",
        "Оформите ваш код в виде функции"
      ]
    },
    {
      "cell_type": "code",
      "execution_count": null,
      "metadata": {
        "colab": {
          "base_uri": "https://localhost:8080/"
        },
        "id": "Xbi6bL0WOE9N",
        "outputId": "71d496f8-e286-42d1-eab1-954761521d8e"
      },
      "outputs": [],
      "source": [
        "def filter_list(list_of_nums):\n",
        "  result = []\n",
        "  for i in list_of_nums:\n",
        "    if i > 0 :\n",
        "      result.append(i)\n",
        "  return result\n",
        "\n",
        "list_of_nums = list(map(int, input().split()))\n",
        "print(*filter_list(list_of_nums))"
      ]
    },
    {
      "cell_type": "markdown",
      "metadata": {
        "id": "lV-w6G-POa6F"
      },
      "source": [
        "**Задача 3:**\n",
        "\n",
        "Этап 1:\n",
        "Напишите программу реализующую Алгоритм Евклида\n",
        "\n",
        "\n",
        "> Алгоритм Евклида – это алгоритм нахождения наибольшего общего делителя (НОД) пары целых чисел.\n",
        "\n",
        "\n",
        "\n",
        "Ввод:\n",
        "```\n",
        "30 18\n",
        "```\n",
        "\n",
        "Вывод:\n",
        "\n",
        "```\n",
        "6\n",
        "```\n",
        "\n",
        "Этап 2:\n",
        "Оформите ваш код в виде функции\n"
      ]
    },
    {
      "cell_type": "code",
      "execution_count": null,
      "metadata": {
        "colab": {
          "base_uri": "https://localhost:8080/"
        },
        "id": "43Dl5tIpOZsu",
        "outputId": "c209af39-68cb-4dcb-c393-2ca8a111bb69"
      },
      "outputs": [],
      "source": [
        "def evklid_algorithm(num1, num2):\n",
        "  while num1 > 0 and num2 > 0:\n",
        "    if num1 > num2:\n",
        "      num1 -= num2\n",
        "    else:\n",
        "      num2 -= num1\n",
        "  return num1 if num1 > 0 else num2\n",
        "\n",
        "num1,num2 = map(int, input().split())\n",
        "print(evklid_algorithm(num1,num2))"
      ]
    },
    {
      "cell_type": "markdown",
      "metadata": {
        "id": "WIfPFxpsO0zL"
      },
      "source": [
        "**Задача 4:**\n",
        "\n",
        "Этап 1:\n",
        "Напишите функцию программу, которая принимает строку и возвращает список слов и количество их упомнинаний в предложении\n",
        "\n",
        "Этап 2:\n",
        "Оформите ваш код в виде функции\n",
        "\n",
        "Ввод:\n",
        "```\n",
        "apple banana apple\n",
        "```\n",
        "\n",
        "Вывод:\n",
        "\n",
        "```\n",
        "apple: 2,\n",
        "banana: 1\n",
        "```"
      ]
    },
    {
      "cell_type": "code",
      "execution_count": null,
      "metadata": {
        "colab": {
          "base_uri": "https://localhost:8080/"
        },
        "id": "DgsmFeW5Po_x",
        "outputId": "2c77ed9d-712e-459f-d86d-7a983d3bd5bb"
      },
      "outputs": [],
      "source": [
        "def count_unique(string):\n",
        "  string = string.split()\n",
        "  unique_elements = {i: string.count(i) for i in string}\n",
        "  result = ''\n",
        "  for i in unique_elements:\n",
        "    result += f'{i}: {unique_elements[i]},\\n'\n",
        "  return result[:-2]\n",
        "\n",
        "print(count_unique(input()))"
      ]
    },
    {
      "cell_type": "markdown",
      "metadata": {
        "id": "5BmIJLUZP9I-"
      },
      "source": [
        "**Задача 5:**\n",
        "\n",
        "Этап 1:\n",
        "Детектор анаграмм Напишите программу на Python, которая принимает в качестве входных данных две строки и проверяет, являются ли они анаграммами друг друга\n",
        "\n",
        "Этап 2:\n",
        "Оформите ваш код в виде функции\n",
        "\n",
        "Ввод:\n",
        "```\n",
        "listen, silent\n",
        "```\n",
        "\n",
        "Вывод:\n",
        "\n",
        "```\n",
        "True\n",
        "```"
      ]
    },
    {
      "cell_type": "code",
      "execution_count": null,
      "metadata": {
        "colab": {
          "base_uri": "https://localhost:8080/"
        },
        "id": "7LNW8DuHQJwH",
        "outputId": "20bb87ac-01eb-42c5-f8c8-02b97438176c"
      },
      "outputs": [],
      "source": [
        "def anagram_detect(word1, word2):\n",
        "  if len(word1) != len(word2):\n",
        "    return False\n",
        "  return all(i in word2 for i in word1) and all(i in word1 for i in word2)\n",
        "\n",
        "print(anagram_detect(*input().split()))"
      ]
    },
    {
      "cell_type": "markdown",
      "metadata": {
        "id": "-SIWYSq2QKBh"
      },
      "source": [
        "**Задача 5:**\n",
        "\n",
        "Шифр ​​Цезаря\n",
        "\n",
        "Напишите программу на Python, которая реализует шифр Цезаря, простой метод шифрования, который заменяет каждую букву буквой на фиксированное количество позиций вниз по алфавиту. Программа должна запрашивать у пользователя сообщение и значение сдвига, а затем шифровать и расшифровывать сообщение.\n",
        "\n",
        "Этап 1:\n",
        "\n",
        "Напишите код для реализации данной задачи\n",
        "\n",
        "Этап 2:\n",
        "\n",
        "Оформите код в виде нескольких функций:\n",
        "\n",
        "* Зашифровывает сообщение\n",
        "* Расшифровывает сообщение"
      ]
    },
    {
      "cell_type": "code",
      "execution_count": null,
      "metadata": {
        "colab": {
          "base_uri": "https://localhost:8080/"
        },
        "id": "anThYirsQe6N",
        "outputId": "f585c35c-613f-4da2-8cb1-6cf415c9a2c4"
      },
      "outputs": [],
      "source": [
        "alphabet = {\n",
        "    'ru': 'абвгдеёжзийклмнопрстуфхцчшщъыьэюя',\n",
        "    'en': 'abcdefghijklmnopqrstuvwxyz'\n",
        "}\n",
        "\n",
        "language = 'ru'\n",
        "\n",
        "\n",
        "def code_message(message, step):\n",
        "  splitted_message = list(message)\n",
        "  for i in range(len(message)):\n",
        "    letter = message[i]\n",
        "    if letter == ' ':\n",
        "      continue\n",
        "    splitted_message[i] = alphabet[language][(alphabet[language].index(letter)+step)%len(alphabet[language])]\n",
        "  return ''.join(splitted_message)\n",
        "\n",
        "\n",
        "def decode_message(message, step):\n",
        "  splitted_message = list(message)\n",
        "  for i in range(len(message)):\n",
        "    letter = message[i]\n",
        "    if letter == ' ':\n",
        "      continue\n",
        "    splitted_message[i] = alphabet[language][(alphabet[language].index(letter)-step)%len(alphabet[language])]\n",
        "  return ''.join(splitted_message)\n",
        "\n",
        "\n",
        "message = input('Сообщение: ').lower()\n",
        "step = int(input('Сдвиг: '))\n",
        "coded_message = code_message(message, step)\n",
        "decoded_message = decode_message(coded_message, step)\n",
        "\n",
        "print(f'Зашифрованное сообщение: {coded_message}')\n",
        "print(f'Расшифрованное сообщение: {decoded_message}')"
      ]
    },
    {
      "cell_type": "markdown",
      "metadata": {
        "id": "avFZRRXrQz9O"
      },
      "source": [
        "**Задача 6**\n",
        "\n",
        "Задача: «Банковская система»\n",
        "\n",
        "Создайте программу Python, которая имитирует базовую банковскую систему. Система должна иметь следующие функции:\n",
        "\n",
        "Требования\n",
        "*   Система должна позволять клиентам создавать счета и хранить их балансы.\n",
        "*   Система должна позволять клиентам вносить и снимать деньги со своих счетов.\n",
        "*   Система должна позволять клиентам проверять свой текущий баланс.\n",
        "*   Система должна позволять клиентам переводить деньги между счетами.\n",
        "*   Система должна отслеживать транзакции (депозиты, снятия и переводы) и иметь возможность печатать детали транзакций.\n",
        "\n",
        "\n",
        "Задачи\n",
        "1. Реализуйте банковскую систему, используя только базовые конструкции Python, такие как def, lists, if, elif и else, без классов или словарей.\n",
        "Определите функции для создания счетов, внесения и снятия денег, получения балансов счетов, перевода денег между счетами, а также создания и печати транзакций.\n",
        "2. Напишите основную функцию, которая демонстрирует использование банковской системы путем создания счетов, внесения и снятия денег и перевода денег между счетами.\n",
        "3. Бонусное задание\n",
        "Реализуйте способ хранения и печати истории транзакций для каждого счета.\n",
        "\n",
        "Ограничения\n",
        "Не используйте классы или словари.\n",
        "Используйте только базовые конструкции Python, такие как def, lists, if, elif и else.\n"
      ]
    },
    {
      "cell_type": "code",
      "execution_count": null,
      "metadata": {
        "colab": {
          "base_uri": "https://localhost:8080/"
        },
        "id": "dWEW10zIRwjs",
        "outputId": "b1831f88-b5e6-4870-aec4-8d89822100a1"
      },
      "outputs": [],
      "source": [
        "def create_bank_account():\n",
        "  name = input('Enter your name: ')\n",
        "  current_balance = 0\n",
        "  transaction_history = []\n",
        "  account_info = [\n",
        "      name,\n",
        "      current_balance,\n",
        "      transaction_history\n",
        "  ]\n",
        "  accounts.append(account_info)\n",
        "  return account_info\n",
        "\n",
        "\n",
        "def get_balance(account):\n",
        "  return f\"{account[0]}'s current balance: ${account[1]}\"\n",
        "\n",
        "\n",
        "def make_transaction(account, operation_type, amount):\n",
        "  if operation_type == 'deposit':\n",
        "    account[1] += amount\n",
        "    account[2].append(f'Transaction: deposit, ${amount}')\n",
        "    print(account[2][-1])\n",
        "  elif operation_type == 'withdrawal':\n",
        "    if account[1] < amount:\n",
        "      print('Недостаточно средств на счёте!')\n",
        "    else:\n",
        "      account[1] -= amount\n",
        "      account[2].append(f'Transaction: withdrawal, ${amount}')\n",
        "      print(account[2][-1])\n",
        "\n",
        "\n",
        "def get_transaction_history(account):\n",
        "  if len(account[2]) == 0:\n",
        "    return f\"{account[0]}'s transaction history:\\n\\t\" + \"No transactions yet\"\n",
        "  return f\"{account[0]}'s transaction history:\\n\\t\" + \";\\n\\t\".join(account[2])\n",
        "\n",
        "\n",
        "def make_transaction_to_other(sender, recipient, amount):\n",
        "  if sender[1] < amount:\n",
        "    print('Недостаточно средств на счёте!')\n",
        "  else:\n",
        "    sender[1] -= amount\n",
        "    recipient[1] += amount\n",
        "    sender[2].append(f'Transaction to {recipient[0]}: ${amount}')\n",
        "    recipient[2].append(f'Transaction from {sender[0]}: ${amount}')\n",
        "    print(sender[2][-1])\n",
        "\n",
        "\n",
        "def chose_account():\n",
        "  print('Выберите счёт:')\n",
        "  for acc in accounts:\n",
        "    print(f'\\t{acc[0]}')\n",
        "  while True:\n",
        "    try:\n",
        "      chosen_account = input()\n",
        "      chosen_account_index = None\n",
        "      for i in range(len(accounts)):\n",
        "        if accounts[i][0] == chosen_account:\n",
        "          chosen_account_index = i\n",
        "          break\n",
        "      return accounts[chosen_account_index]\n",
        "    except:\n",
        "      print('Выбран несуществующий счёт!')\n",
        "\n",
        "\n",
        "\n",
        "def main():\n",
        "  print('Добро пожаловать в банк!')\n",
        "  print(\n",
        "      'Чтобы создать счёт - напишите создать',\n",
        "      'Чтобы проверить текущий баланс - баланс',\n",
        "      'Чтобы посмотреть историю транзакций - история',\n",
        "      'Чтобы внести деньги на счёт - внести',\n",
        "      'Чтобы снять деньги со счёта - снять',\n",
        "      'Чтобы перевести деньги на другой счёт - перевести',\n",
        "      'Чтобы выйти из программы - выйти',\n",
        "      sep = '\\n'\n",
        "      )\n",
        "\n",
        "  while True:\n",
        "    command = input().lower()\n",
        "\n",
        "    if command == 'выйти':\n",
        "      break\n",
        "\n",
        "    elif command == 'создать':\n",
        "      create_bank_account()\n",
        "      print('Счёт создан!')\n",
        "\n",
        "    elif len(accounts) > 0:\n",
        "      if command == 'баланс':\n",
        "        print(get_balance(chose_account()))\n",
        "      elif command == 'снять':\n",
        "        make_transaction(chose_account(), 'withdrawal', int(input('Введите сумму: ')))\n",
        "      elif command == 'внести':\n",
        "        make_transaction(chose_account(), 'deposit', int(input('Введите сумму: ')))\n",
        "      elif command == 'перевести':\n",
        "        make_transaction_to_other(chose_account(), chose_account(), int(input('Введите сумму: ')))\n",
        "      elif command == 'история':\n",
        "        print(get_transaction_history(chose_account()))\n",
        "      else:\n",
        "        print('Неизвестная команда!')\n",
        "\n",
        "    else:\n",
        "      print('Для начала создайте счёт!')\n",
        "\n",
        "\n",
        "accounts = []\n",
        "\n",
        "main()"
      ]
    }
  ],
  "metadata": {
    "colab": {
      "provenance": []
    },
    "kernelspec": {
      "display_name": "Python 3",
      "name": "python3"
    },
    "language_info": {
      "name": "python"
    }
  },
  "nbformat": 4,
  "nbformat_minor": 0
}
