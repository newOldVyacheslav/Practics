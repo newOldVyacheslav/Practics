{
  "cells": [
    {
      "cell_type": "markdown",
      "metadata": {
        "id": "Bu5gIJfHNPHw"
      },
      "source": [
        "ФИО:"
      ]
    },
    {
      "cell_type": "code",
      "execution_count": null,
      "metadata": {
        "id": "CbHI8c7cM9Eg"
      },
      "outputs": [],
      "source": []
    },
    {
      "cell_type": "markdown",
      "metadata": {
        "id": "VrNrBpmocGRd"
      },
      "source": [
        "# **Задание 1**"
      ]
    },
    {
      "cell_type": "markdown",
      "metadata": {
        "id": "XhV1bnm1bR2h"
      },
      "source": [
        "\n",
        "\n",
        "Дан словарь, содержащий имена и возраст людей, напишите программу выводящую возраст человека по имени\n",
        "\n",
        "Дано:\n",
        "\n",
        "```\n",
        "{\"Alice\": 25, \"Bob\": 30, \"Charlie\": 35}\n",
        "```\n",
        "\n",
        "Вввод:\n",
        "\n",
        "\n",
        "```\n",
        "Alice\n",
        "```\n",
        "\n",
        "Вывод:\n",
        "\n",
        "\n",
        "```\n",
        "Alice 25\n",
        "```\n"
      ]
    },
    {
      "cell_type": "code",
      "execution_count": null,
      "metadata": {
        "colab": {
          "base_uri": "https://localhost:8080/"
        },
        "id": "9T0nNFCEbpaF",
        "outputId": "34249af5-1888-46da-8196-041e06b55ea0"
      },
      "outputs": [],
      "source": [
        "data = {\"Alice\": 25, \"Bob\": 30, \"Charlie\": 35}\n",
        "\n",
        "\n",
        "def get_age(name):\n",
        "  if name in data:\n",
        "    return data[name]\n",
        "  else:\n",
        "    return 'No data'\n",
        "\n",
        "name = input()\n",
        "\n",
        "print(get_age(name))\n",
        "\n"
      ]
    },
    {
      "cell_type": "markdown",
      "metadata": {
        "id": "lpjJz-_YcJ-t"
      },
      "source": [
        "# **Задание 2**\n"
      ]
    },
    {
      "cell_type": "markdown",
      "metadata": {
        "id": "tMEsAB4rUiWW"
      },
      "source": [
        "\n",
        "\n",
        "Дан список, состоящий из целых чисел, необходимо написать функцию считающую сумму всех положительных четных чисел списка\n",
        "\n",
        "Ввод:\n",
        "\n",
        "```\n",
        "1, 2, 3, 4, 5, 6, 7, 8, 9\n",
        "```\n",
        "\n",
        "Вывод:\n",
        "\n",
        "\n",
        "```\n",
        "20\n",
        "```\n",
        "\n",
        "***Запрещено:***\n",
        "\n",
        "*   Использование готовых функций для суммирования чисел\n"
      ]
    },
    {
      "cell_type": "code",
      "execution_count": null,
      "metadata": {
        "colab": {
          "base_uri": "https://localhost:8080/"
        },
        "id": "wDNUFLeqNQS_",
        "outputId": "9bd3acc6-9b68-4cbc-90ab-9304ad525441"
      },
      "outputs": [],
      "source": [
        "def get_sum(nums):\n",
        "  result = 0\n",
        "  for num in nums:\n",
        "    result += num\n",
        "  return result\n",
        "\n",
        "def find_all_even_positive_numbers(nums):\n",
        "  result = []\n",
        "  for num in nums:\n",
        "    if num > 0 and num%2==0:\n",
        "      result.append(num)\n",
        "  return result\n",
        "\n",
        "numbers = list(map(int, input().split()))\n",
        "print(get_sum(find_all_even_positive_numbers(numbers)))"
      ]
    },
    {
      "cell_type": "markdown",
      "metadata": {
        "id": "WT_v-vz1dUZJ"
      },
      "source": [
        "# **Задание 3**"
      ]
    },
    {
      "cell_type": "markdown",
      "metadata": {
        "id": "ZI5Xeh2DdXgF"
      },
      "source": [
        "Дан словарь, содержащий название фрукта и его цвет, выведите список всех желтых фруктов\n",
        "\n",
        "\n",
        "Дано:\n",
        "\n",
        "```\n",
        "fruits_and_colors = {\n",
        "    \"apple\": \"red\",\n",
        "    \"banana\": \"yellow\",\n",
        "    \"mango\": \"yellow\",\n",
        "    \"orange\": \"orange\",\n",
        "    \"lemon\": \"yellow\",\n",
        "    \"grape\": \"purple\"\n",
        "}\n",
        "```\n",
        "\n",
        "Вывод:\n",
        "\n",
        "\n",
        "```\n",
        "Yellow fruits:\n",
        "banana\n",
        "lemon\n",
        "mango\n",
        "```\n",
        "\n"
      ]
    },
    {
      "cell_type": "code",
      "execution_count": null,
      "metadata": {
        "colab": {
          "base_uri": "https://localhost:8080/"
        },
        "id": "aNzFTkhKdkTG",
        "outputId": "1ee45454-1dcb-4d9e-b2c7-69e199464c66"
      },
      "outputs": [],
      "source": [
        "fruits_and_colors = {\n",
        "    \"apple\": \"red\",\n",
        "    \"banana\": \"yellow\",\n",
        "    \"mango\": \"yellow\",\n",
        "    \"orange\": \"orange\",\n",
        "    \"lemon\": \"yellow\",\n",
        "    \"grape\": \"purple\"\n",
        "}\n",
        "\n",
        "def get_fruits(color):\n",
        "  fruits = []\n",
        "  for fruit in fruits_and_colors:\n",
        "    if fruits_and_colors[fruit] == color:\n",
        "      fruits.append(fruit)\n",
        "  return fruits\n",
        "\n",
        "\n",
        "color = 'yellow'\n",
        "print(f'{color.title()} fruits:', *get_fruits(color), sep='\\n')\n"
      ]
    },
    {
      "cell_type": "markdown",
      "metadata": {
        "id": "iHtMGt2icM7w"
      },
      "source": [
        "# **Задание 4**\n"
      ]
    },
    {
      "cell_type": "markdown",
      "metadata": {
        "id": "rS3THsnBQ_EB"
      },
      "source": [
        "\n",
        "\n",
        "Дан словарь, необходимо написать функцию меняющую ключ и значение местами\n",
        "\n",
        "Дано:\n",
        "\n",
        "\n",
        "```\n",
        "{\"a\": 1, \"b\": 2, \"c\": 3}\n",
        "```\n",
        "\n",
        "Вывод:\n",
        "\n",
        "```\n",
        "{1: 'a', 2: 'b', 3: 'c'}\n",
        "```\n",
        "\n"
      ]
    },
    {
      "cell_type": "code",
      "execution_count": null,
      "metadata": {
        "colab": {
          "base_uri": "https://localhost:8080/"
        },
        "id": "MNRusyLDcQ59",
        "outputId": "f5e782e3-5fda-45a2-bc55-0bcadb8b42f5"
      },
      "outputs": [],
      "source": [
        "dictionary = {\"a\": 1, \"b\": 2, \"c\": 3}\n",
        "\n",
        "\n",
        "def reverse_keys_and_values(dictionary):\n",
        "  result = {}\n",
        "  for k, v in dictionary.items():\n",
        "    result[v] = k\n",
        "  return result\n",
        "\n",
        "print(reverse_keys_and_values(dictionary))"
      ]
    },
    {
      "cell_type": "markdown",
      "metadata": {
        "id": "x6ff5nd0cUxD"
      },
      "source": [
        "# **Задание 5**"
      ]
    },
    {
      "cell_type": "markdown",
      "metadata": {
        "id": "ypQNHOG4NQz3"
      },
      "source": [
        "Дан список слов, неограниченной длинны, сформируйте словарь, где в качестве ключа будет слово, а в качестве значения количество символов\n",
        "\n",
        "**Критерии**\n",
        "\n",
        "\n",
        "*   Словарь необходимо отсортировать по убыванию количества элементов в списке.\n",
        "*   Подсчет элементов должен быть реализован в отдельной функции\n",
        "*   Сортировка пары `ключ:значение` должна быть реализована также в виде отдельной функции\n",
        "\n",
        "\n",
        "\n",
        "\n",
        "Дано:\n",
        "```\n",
        "['apple','banana','orange','apple','apple','banana']\n",
        "```\n",
        "\n",
        "\n",
        "Вывод:\n",
        "```\n",
        "{'apple':3, 'banana': 2, 'orange': 1}\n",
        "```\n",
        "\n",
        "***Запрещено:***\n",
        "\n",
        "*   Использование готовых функций для сортировки словаря\n",
        "*   Использование готовых функций для подсчета элементов\n",
        "\n"
      ]
    },
    {
      "cell_type": "code",
      "execution_count": null,
      "metadata": {
        "colab": {
          "base_uri": "https://localhost:8080/"
        },
        "id": "J10PjdVQUbyq",
        "outputId": "e18f7dd5-36e8-4f93-d669-d990ed216f5a"
      },
      "outputs": [],
      "source": [
        "def count_unique(elements):\n",
        "  unique_elements = {i: elements.count(i) for i in elements}\n",
        "  return unique_elements\n",
        "\n",
        "\n",
        "def sort_dict(dict_):\n",
        "  result = {}\n",
        "  max_value = max(dict_.values())\n",
        "  min_value = min(dict_.values())\n",
        "\n",
        "  for value in range(max_value, min_value - 1, -1):\n",
        "    if value not in dict_.values():\n",
        "      continue\n",
        "    value_count = list(dict_.values()).count(value)\n",
        "    for k, v in dict_.items():\n",
        "      if v == value:\n",
        "        result[k] = v\n",
        "        value_count -= 1\n",
        "        if value_count == 0:\n",
        "          break\n",
        "\n",
        "  return result\n",
        "\n",
        "\n",
        "fruits = ['apple','banana','orange','apple','apple','banana']\n",
        "print(sort_dict(count_unique(fruits)))"
      ]
    },
    {
      "cell_type": "markdown",
      "metadata": {
        "id": "d7fDUr2WcY_G"
      },
      "source": [
        "# **Задание 6**"
      ]
    },
    {
      "cell_type": "markdown",
      "metadata": {
        "id": "m11qdVhSWBi7"
      },
      "source": [
        "Дан словарь, содержащий информацию о людях, необходимо:\n",
        "\n",
        "\n",
        "\n",
        "*   Вывести всех людей старше 30 лет\n",
        "*   Вывести список городов и количество людей из словаря проживающих в них\n",
        "*   Вывести список профессий и список людей для каждой профессии\n",
        "\n",
        "**Критерии**\n",
        "\n",
        "Каждый из пунктов необходимо реализовать в виде функции\n",
        "\n"
      ]
    },
    {
      "cell_type": "code",
      "execution_count": null,
      "metadata": {
        "id": "lSNtB39OWtFl"
      },
      "outputs": [],
      "source": [
        "people_info = {\n",
        "    \"Alice\": {\"age\": 25, \"city\": \"New York\", \"occupation\": \"Engineer\"},\n",
        "    \"Bob\": {\"age\": 30, \"city\": \"Los Angeles\", \"occupation\": \"Designer\"},\n",
        "    \"Charlie\": {\"age\": 35, \"city\": \"Chicago\", \"occupation\": \"Teacher\"},\n",
        "    \"Diana\": {\"age\": 28, \"city\": \"Miami\", \"occupation\": \"Doctor\"},\n",
        "    \"Ethan\": {\"age\": 40, \"city\": \"Seattle\", \"occupation\": \"Chef\"},\n",
        "    \"Frank\": {\"age\": 32, \"city\": \"Atlanta\", \"occupation\": \"Lawyer\"},\n",
        "    \"Gabriella\": {\"age\": 29, \"city\": \"San Francisco\", \"occupation\": \"Software Engineer\"},\n",
        "    \"Harrison\": {\"age\": 38, \"city\": \"Denver\", \"occupation\": \"Architect\"},\n",
        "    \"Isabella\": {\"age\": 26, \"city\": \"Washington D.C.\", \"occupation\": \"Journalist\"},\n",
        "    \"Julian\": {\"age\": 42, \"city\": \"Miami\", \"occupation\": \"Musician\"},\n",
        "    \"Kate\": {\"age\": 31, \"city\": \"Philadelphia\", \"occupation\": \"Nurse\"},\n",
        "    \"Lucas\": {\"age\": 36, \"city\": \"Nashville\", \"occupation\": \"Businessman\"},\n",
        "    \"Mia\": {\"age\": 27, \"city\": \"Atlanta\", \"occupation\": \"Artist\"},\n",
        "    \"Natalie\": {\"age\": 39, \"city\": \"Portland\", \"occupation\": \"Writer\"},\n",
        "    \"Oliver\": {\"age\": 44, \"city\": \"Minneapolis\", \"occupation\": \"Professor\"},\n",
        "    \"Penelope\": {\"age\": 33, \"city\": \"San Diego\", \"occupation\": \"Marketing Manager\"},\n",
        "    \"Quincy\": {\"age\": 41, \"city\": \"Nashville\", \"occupation\": \"Singer\"},\n",
        "    \"Rachel\": {\"age\": 34, \"city\": \"Cleveland\", \"occupation\": \"Teacher\"},\n",
        "    \"Sophia\": {\"age\": 29, \"city\": \"Nashville\", \"occupation\": \"Engineer\"},\n",
        "    \"Tessa\": {\"age\": 37, \"city\": \"Miami\", \"occupation\": \"Lawyer\"}\n",
        "}"
      ]
    },
    {
      "cell_type": "code",
      "execution_count": null,
      "metadata": {
        "colab": {
          "base_uri": "https://localhost:8080/"
        },
        "id": "qcLO5eQwXkNK",
        "outputId": "bacf691e-9f81-4d72-a28b-b467f5e80b3e"
      },
      "outputs": [],
      "source": [
        "people_info = {\n",
        "    \"Alice\": {\"age\": 25, \"city\": \"New York\", \"occupation\": \"Engineer\"},\n",
        "    \"Bob\": {\"age\": 30, \"city\": \"Los Angeles\", \"occupation\": \"Designer\"},\n",
        "    \"Charlie\": {\"age\": 35, \"city\": \"Chicago\", \"occupation\": \"Teacher\"},\n",
        "    \"Diana\": {\"age\": 28, \"city\": \"Miami\", \"occupation\": \"Doctor\"},\n",
        "    \"Ethan\": {\"age\": 40, \"city\": \"Seattle\", \"occupation\": \"Chef\"},\n",
        "    \"Frank\": {\"age\": 32, \"city\": \"Atlanta\", \"occupation\": \"Lawyer\"},\n",
        "    \"Gabriella\": {\"age\": 29, \"city\": \"San Francisco\", \"occupation\": \"Software Engineer\"},\n",
        "    \"Harrison\": {\"age\": 38, \"city\": \"Denver\", \"occupation\": \"Architect\"},\n",
        "    \"Isabella\": {\"age\": 26, \"city\": \"Washington D.C.\", \"occupation\": \"Journalist\"},\n",
        "    \"Julian\": {\"age\": 42, \"city\": \"Miami\", \"occupation\": \"Musician\"},\n",
        "    \"Kate\": {\"age\": 31, \"city\": \"Philadelphia\", \"occupation\": \"Nurse\"},\n",
        "    \"Lucas\": {\"age\": 36, \"city\": \"Nashville\", \"occupation\": \"Businessman\"},\n",
        "    \"Mia\": {\"age\": 27, \"city\": \"Atlanta\", \"occupation\": \"Artist\"},\n",
        "    \"Natalie\": {\"age\": 39, \"city\": \"Portland\", \"occupation\": \"Writer\"},\n",
        "    \"Oliver\": {\"age\": 44, \"city\": \"Minneapolis\", \"occupation\": \"Professor\"},\n",
        "    \"Penelope\": {\"age\": 33, \"city\": \"San Diego\", \"occupation\": \"Marketing Manager\"},\n",
        "    \"Quincy\": {\"age\": 41, \"city\": \"Nashville\", \"occupation\": \"Singer\"},\n",
        "    \"Rachel\": {\"age\": 34, \"city\": \"Cleveland\", \"occupation\": \"Teacher\"},\n",
        "    \"Sophia\": {\"age\": 29, \"city\": \"Nashville\", \"occupation\": \"Engineer\"},\n",
        "    \"Tessa\": {\"age\": 37, \"city\": \"Miami\", \"occupation\": \"Lawyer\"}\n",
        "}\n",
        "\n",
        "\n",
        "def get_people_over_30(people):\n",
        "  result = []\n",
        "  for human in people:\n",
        "    if people[human][\"age\"] > 30:\n",
        "      result.append(human)\n",
        "  return result\n",
        "\n",
        "\n",
        "def get_cities(people):\n",
        "  result = []\n",
        "  for info in people.values():\n",
        "    result.append(info[\"city\"])\n",
        "  return result\n",
        "\n",
        "\n",
        "def count_people_in_city(city):\n",
        "  people_count = 0\n",
        "  for human in people_info:\n",
        "    if people_info[human][\"city\"] == city:\n",
        "      people_count += 1\n",
        "  return people_count\n",
        "\n",
        "\n",
        "def get_professions(people):\n",
        "  result = []\n",
        "  for human in people:\n",
        "    result.append(people[human][\"occupation\"])\n",
        "  return result\n",
        "\n",
        "\n",
        "def get_people_for_proffesion(profession):\n",
        "  people = []\n",
        "  for human in people_info:\n",
        "    if people_info[human][\"occupation\"] == profession:\n",
        "      people.append(human)\n",
        "  return people\n",
        "\n",
        "\n",
        "print('People over 30 y.o.:', *get_people_over_30(people_info), sep = '\\n\\t')\n",
        "cities = get_cities(people_info)\n",
        "for city in cities:\n",
        "  print(f'{city}: {count_people_in_city(city)}')\n",
        "\n",
        "professions = get_professions(people_info)\n",
        "for profession in professions:\n",
        "  print(f'{profession}', *get_people_for_proffesion(profession), sep = '\\n\\t')"
      ]
    },
    {
      "cell_type": "markdown",
      "metadata": {
        "id": "27IuB2YScezw"
      },
      "source": [
        "# **Задание 7**"
      ]
    },
    {
      "cell_type": "markdown",
      "metadata": {
        "id": "Fd95-S9cYhct"
      },
      "source": [
        "Задание: Разработка системы отзывов о предметах\n",
        "\n",
        "Описание: Создать программу на Python для хранения и управления отзывами о предметах учебного курса. Программа должна позволять пользователям добавлять, просматривать и удалять отзывы, а также вычислять средний балл по заданному предмету.\n",
        "\n",
        "**Функционал:**\n",
        "\n",
        "*   Добавление отзыва и оценки:\n",
        "   *   Пользователь может ввести название предмета, оценку (от 1 до 5) и текст отзыва.\n",
        "   *   Отзывы должны храниться в структуре данных (например, словаре), где ключом будет название предмета, а значением - список отзывов (каждый отзыв может хранить оценку и комментарий).\n",
        "*   Просмотр отзывов и оценок:\n",
        "   *   Пользователь может запросить отзывы для указанного предмета.\n",
        "   *   Если для указанного предмета есть отзывы, программа должна отобразить список всех отзывов и соответствующих оценок.\n",
        "*   Удаление отзыва:\n",
        "   *   Пользователь может удалить отзыв по индексу. Необходимо заранее уведомить пользователя о том, какие отзывы доступны для удаления.\n",
        "   *   Программа должна обработать ситуацию, когда индекс введен неправильно.\n",
        "*   Вычисление среднего балла по предмету:\n",
        "   *   Пользователь может ввести название предмета, и программа должна вычислить и вывести средний балл по всем отзывам для этого предмета.\n",
        "   *   Если отзывов нет, программа должна сообщить об этом.\n",
        "\n",
        "\n",
        "**Критерии:**\n",
        "\n",
        "*   Код должен быть оформлен в виде функций\n",
        "*   Необходимо обрабатывать неправильный ввод пользователя\n",
        "*   Должны быть комментарии к функциям\n",
        "*   Присутсвует весь дополнительный функционал\n",
        "\n",
        "\n",
        "\n",
        "**Опционально:**\n",
        "\n",
        "Предлагаю вам добавить свои критерии оценки или вопросы, на которые должен ответить студент, чтобы оценить пару\n",
        "\n",
        "\n"
      ]
    },
    {
      "cell_type": "code",
      "execution_count": null,
      "metadata": {
        "colab": {
          "base_uri": "https://localhost:8080/"
        },
        "id": "kzucJrCUa0o7",
        "outputId": "c9f73bd8-3998-46a8-f8d7-5869c233ae2e"
      },
      "outputs": [],
      "source": [
        "database = {}\n",
        "\n",
        "\n",
        "def add_review(subject, user_rating, review_text):\n",
        "  if subject not in database:\n",
        "    database[subject] = {\"reviews\": [], \"avg_rating\": None}\n",
        "  review = {\n",
        "    \"user_rating\": float(user_rating),\n",
        "    \"review_text\": review_text,\n",
        "    \"index\": len(database[subject][\"reviews\"])+1\n",
        "  }\n",
        "  database[subject][\"reviews\"].append(review)\n",
        "  database[subject][\"avg_rating\"] = calculate_average_rating(subject)\n",
        "  print(f'Отзыв о предмете {subject} успешно добавлен!')\n",
        "\n",
        "\n",
        "def show_reviews(subject, is_index=False):\n",
        "  print(f'Отзывы для предмета {subject}:')\n",
        "  if subject not in database or len(database[subject][\"reviews\"]) == 0:\n",
        "    print('  На этот предмет ещё нет отзывов.')\n",
        "  else:\n",
        "    if not is_index:\n",
        "      for review in database[subject][\"reviews\"]:\n",
        "        print(\n",
        "          f'  Оценка: {review[\"user_rating\"]}',\n",
        "          f'Отзыв: {review[\"review_text\"]}',\n",
        "          sep = ' | '\n",
        "        )\n",
        "    elif is_index:\n",
        "      for review in database[subject][\"reviews\"]:\n",
        "        print(\n",
        "          f'  Номер отзыва: {review[\"index\"]}',\n",
        "          f'Оценка: {review[\"user_rating\"]}',\n",
        "          f'Отзыв: {review[\"review_text\"]}',\n",
        "          sep = ' | '\n",
        "        )\n",
        "\n",
        "\n",
        "def delete_review(subject):\n",
        "  show_reviews(subject, is_index=True)\n",
        "  while True:\n",
        "\n",
        "    if subject not in database or len(database[subject][\"reviews\"]) == 0:\n",
        "      break\n",
        "\n",
        "    index = int(input('Чтобы удалить отзыв, введите его номер: '))\n",
        "    for review in database[subject][\"reviews\"]:\n",
        "      if review[\"index\"] == index:\n",
        "        del database[subject][\"reviews\"][index-1]\n",
        "        print('Отзыв успешно удалён!')\n",
        "        database[subject][\"avg_rating\"] = calculate_average_rating(subject)\n",
        "        break\n",
        "    else:\n",
        "      print('Введён неверный номер')\n",
        "      continue\n",
        "\n",
        "    break\n",
        "\n",
        "\n",
        "def calculate_average_rating(subject):\n",
        "  if subject not in database or len(database[subject][\"reviews\"]) == 0:\n",
        "    return None\n",
        "  avg_value = 0\n",
        "  for review in database[subject][\"reviews\"]:\n",
        "    avg_value += review[\"user_rating\"] / len(database[subject][\"reviews\"])\n",
        "  return round(avg_value, 2)\n",
        "\n",
        "\n",
        "def print_average_rating(subject):\n",
        "  if subject not in database or len(database[subject][\"reviews\"]) == 0:\n",
        "    print('На этот предмет ещё нет отзывов.')\n",
        "  else:\n",
        "    print(f'Средняя оценка предмета {subject}: {database[subject][\"avg_rating\"]}')\n",
        "\n",
        "\n",
        "def main():\n",
        "  print(\n",
        "    'Вас приветствует система отзывов о предметах',\n",
        "    'Для взаимодействия доступны следующие команды:',\n",
        "    'Чтобы добавить новый отзыв - добавить отзыв;',\n",
        "    'Чтобы просмотреть отзывы - показать отзывы: <предмет>;',\n",
        "    'Чтобы удалить отзыв - удалить отзыв;',\n",
        "    'Чтобы посмотреть среднюю оценку по предмету - средняя оценка: <предмет>;',\n",
        "    'Чтобы выйти - выйти',\n",
        "    sep = '\\n'\n",
        "  )\n",
        "  while True:\n",
        "    command = input().lower()\n",
        "    if command == 'добавить отзыв':\n",
        "      try:\n",
        "        subject, rating, text = map(\n",
        "            lambda s: s.capitalize(),\n",
        "            input('Введите название предмета, оценку и ваш отзыв через запятую с пробелом:\\n').split(', ')\n",
        "        )\n",
        "        add_review(subject, rating, text)\n",
        "      except:\n",
        "        print('Неверный ввод')\n",
        "        continue\n",
        "    elif 'показать отзывы' in command:\n",
        "      if ': ' not in command:\n",
        "        print('Неверный ввод команды')\n",
        "      else:\n",
        "        show_reviews(subject=command.split(': ')[1].capitalize())\n",
        "    elif command == 'удалить отзыв':\n",
        "      subject = input('Введите название предмета: ').capitalize()\n",
        "      delete_review(subject)\n",
        "    elif 'средняя оценка' in command:\n",
        "      if ': ' not in command:\n",
        "        print('Неверный ввод команды')\n",
        "      print_average_rating(subject=command.split(': ')[1].capitalize())\n",
        "    elif command == 'выйти':\n",
        "      break\n",
        "    else:\n",
        "      print('Не удалось распознать команду')\n",
        "\n",
        "\n",
        "main()"
      ]
    }
  ],
  "metadata": {
    "colab": {
      "provenance": []
    },
    "kernelspec": {
      "display_name": "Python 3",
      "name": "python3"
    },
    "language_info": {
      "name": "python"
    }
  },
  "nbformat": 4,
  "nbformat_minor": 0
}
