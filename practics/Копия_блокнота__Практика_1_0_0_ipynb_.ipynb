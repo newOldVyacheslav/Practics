{
  "cells": [
    {
      "cell_type": "markdown",
      "metadata": {
        "id": "fLDS5f_mCnPa"
      },
      "source": []
    },
    {
      "cell_type": "markdown",
      "metadata": {
        "id": "-CSHUbWzCqeM"
      },
      "source": [
        "# Задание (совместное с преподавателем)\n",
        "\n",
        "\n"
      ]
    },
    {
      "cell_type": "markdown",
      "metadata": {
        "id": "a_flBjZOCwYz"
      },
      "source": [
        "Напишите систему для учёта отпусков с возможностью узнавать, сколько дней отпуска осталось у того или иного сотрудника.\n",
        "Для этого создайте класс Employee со следующими методами:\n",
        "\n",
        "- Метод consume_vacation должен отвечать за списание дней отпуска.\n",
        "\n",
        "Единственный параметр этого метода (кроме self) — количество потраченных отпускных дней (целое число).\n",
        "\n",
        "При вызове метода consume_vacation соответствующее количество дней должно вычитаться из общего числа доступных отпускных дней сотрудника.\n",
        "\n",
        "Чтобы определить число доступных отпускных дней конкретного сотрудника, в классе опишите атрибут экземпляра remaining_vacation_days, который по умолчанию будет равен значению атрибута класса vacation_days, и используйте этот атрибут в работе метода.\n",
        "\n",
        "- Метод get_vacation_details должен возвращать остаток отпускных дней сотрудника в формате: ```Остаток отпускных дней: <число>.```\n",
        "\n",
        "\n",
        "Чтобы проверить работу программы:\n",
        "1. Создайте экземпляр класса Employee.\n",
        "2. Вызовите метод consume_vacation, указав подходящее значение аргумента, например 7.\n",
        "3. Вызовите метод get_vacation_details."
      ]
    },
    {
      "cell_type": "code",
      "execution_count": null,
      "metadata": {
        "id": "G4bUraN4CwBI"
      },
      "outputs": [],
      "source": [
        "class Employee:\n",
        "    vacation_days = 28\n",
        "\n",
        "    def __init__(self, first_name, second_name, gender): # конструктор\n",
        "        self.first_name = first_name\n",
        "        self.second_name = second_name\n",
        "        self.gender = gender\n",
        "        self.remaining_vacation_days = self.vacation_days\n",
        "\n",
        "    def consume_vacation(self, days): # метод для вычитания дней\n",
        "        self.remaining_vacation_days -= days\n",
        "\n",
        "    def get_vacation_details(self):\n",
        "        return f'Остаток отпускных дней: {self.remaining_vacation_days}.'\n",
        "\n",
        "\n",
        "employee = Employee(\"Мистер\", \"Крутой\", \"Мужчина\")\n"
      ]
    },
    {
      "cell_type": "code",
      "execution_count": null,
      "metadata": {
        "colab": {
          "base_uri": "https://localhost:8080/"
        },
        "id": "Io2XwUud5kAu",
        "outputId": "f1ff9743-7684-4e3f-a97b-40629496f04e"
      },
      "outputs": [],
      "source": [
        "employee = Employee(\"Мистер\", \"Крутой\", \"Мужчина\")\n",
        "employee.consume_vacation(7)\n",
        "print(employee.remaining_vacation_days)\n",
        "print(employee.get_vacation_details())\n"
      ]
    },
    {
      "cell_type": "markdown",
      "metadata": {
        "id": "8XGka5GtEBK1"
      },
      "source": [
        "# Задание 1"
      ]
    },
    {
      "cell_type": "markdown",
      "metadata": {
        "id": "jQ4qqd8nEZBY"
      },
      "source": [
        "Задание:\n",
        "\n",
        "Создайте класс с именем Rectangle который имеет:\n",
        "- Атрибуты ширины и высоты.\n",
        "- Метод расчета площади.\n",
        "- Метод расчета периметра.\n",
        "- Метод отображения размеров прямоугольника.\n",
        "\n",
        "Создайте экземпляр класса Rectangleи продемонстрируйте его функциональность."
      ]
    },
    {
      "cell_type": "code",
      "execution_count": null,
      "metadata": {
        "id": "dG6uNPqTEAvt"
      },
      "outputs": [],
      "source": [
        "class Rectangle:\n",
        "    def __init__(self, width, height):\n",
        "        self.width = width\n",
        "        self.height = height\n",
        "\n",
        "    def calculate_area(self):\n",
        "        area = self.width * self.height\n",
        "        self.area = area\n",
        "        return self.area\n",
        "\n",
        "    def calculate_perimeter(self):\n",
        "        perimeter = 2 * (self.width + self.height)\n",
        "        self.perimeter = perimeter\n",
        "        return self.perimeter\n",
        "\n",
        "    def print_size(self):\n",
        "        self.calculate_area()\n",
        "        self.calculate_perimeter()\n",
        "        result = (f'Width: {self.width}\\n'\n",
        "                  f'Height: {self.height}\\n'\n",
        "                  f'Square: {self.area}\\n'\n",
        "                  f'Perimeter: {self.perimeter}')\n",
        "        print(result)\n"
      ]
    },
    {
      "cell_type": "code",
      "execution_count": null,
      "metadata": {
        "colab": {
          "base_uri": "https://localhost:8080/"
        },
        "id": "9yL7_Ogr8ivv",
        "outputId": "2dc51c6c-135e-4c65-9df1-bc727f5b4344"
      },
      "outputs": [],
      "source": [
        "width, height = map(int, input('Введите через запятую ширину и высоту прямоугольника: ').split(', '))\n",
        "rectangle = Rectangle(width, height)\n",
        "rectangle.print_size()"
      ]
    },
    {
      "cell_type": "markdown",
      "metadata": {
        "id": "0ct1u6lqE73j"
      },
      "source": [
        "# Задание 2"
      ]
    },
    {
      "cell_type": "markdown",
      "metadata": {
        "id": "FOpIpcLxE-WK"
      },
      "source": [
        "Задание: Создайте мини версию банковской системы:\n",
        "\n",
        "\n",
        "Инструкции:\n",
        "\n",
        "1. Создайте класс BankAccountсо следующими атрибутами:\n",
        "    - account_holder -  владелец счета\n",
        "    - balance - баланс счета\n",
        "\n",
        "2. Реализуйте следующие методы:\n",
        "    - Метод для инициализации владельца счета: имя владельца счета и установите начальный баланс на 0.\n",
        "    - deposit(amount): Добавьте указанную сумму к балансу.\n",
        "    - withdraw(amount): Вычесть указанную сумму из баланса, если средств достаточно; в противном случае вывести предупреждение.\n",
        "    - get_balance(): Возврат текущего баланса.\n",
        "\n",
        "\n",
        "Создайте объект класса и продемонстрируйте его возможности"
      ]
    },
    {
      "cell_type": "code",
      "execution_count": null,
      "metadata": {
        "id": "WWXNIUrCE99W"
      },
      "outputs": [],
      "source": [
        "class BankAccountсо:\n",
        "    def __init__(self, name):\n",
        "        self.account_holder = name\n",
        "        self.balance = 0\n",
        "\n",
        "    def deposit(self, amount):\n",
        "        self.balance += amount\n",
        "\n",
        "    def withdraw(self, amount):\n",
        "        if amount > self.balance:\n",
        "            print('Недостаточно средств.')\n",
        "        elif amount <= self.balance:\n",
        "            self.balance -= amount\n",
        "            print(f'Со счёта снято {amount}.')\n",
        "\n",
        "    def get_balance(self):\n",
        "        return f'Баланс: {self.balance}'"
      ]
    },
    {
      "cell_type": "code",
      "execution_count": null,
      "metadata": {
        "colab": {
          "base_uri": "https://localhost:8080/"
        },
        "id": "Xb6ZDkUyCttf",
        "outputId": "e46a8280-773c-4f78-c441-f0857f472ae2"
      },
      "outputs": [],
      "source": [
        "def main():\n",
        "    name = input('Введите имя: ')\n",
        "    bank_account = BankAccountсо(name)\n",
        "\n",
        "    commands = ['Снять <сумма>', 'Внести <сумма>', 'Баланс', 'Выйти']\n",
        "    print('Доступные команды:', *commands, sep='\\n\\t')\n",
        "    while True:\n",
        "        command = input('Введите команду: ').lower()\n",
        "\n",
        "        if 'снять' in command:\n",
        "            amount = int(command.split()[1])\n",
        "            bank_account.withdraw(amount)\n",
        "        elif 'внести' in command:\n",
        "            amount = int(command.split()[1])\n",
        "            bank_account.deposit(amount)\n",
        "        elif 'баланс' in command:\n",
        "            print(bank_account.get_balance())\n",
        "        elif 'выйти' in command:\n",
        "            break\n",
        "        else:\n",
        "            print('Что?')\n",
        "\n",
        "\n",
        "if __name__ == \"__main__\":\n",
        "    main()"
      ]
    },
    {
      "cell_type": "markdown",
      "metadata": {
        "id": "C5DX5Uf2FfP6"
      },
      "source": [
        "# Задание 3"
      ]
    },
    {
      "cell_type": "markdown",
      "metadata": {
        "id": "0cR-MYepFgz6"
      },
      "source": [
        "Возьмите код и задание (Рыцарь и дракон) из предыдущей практики и реализуйте его с применением классов"
      ]
    },
    {
      "cell_type": "code",
      "execution_count": null,
      "metadata": {
        "id": "Oz9BZbhAFwua"
      },
      "outputs": [],
      "source": [
        "import random\n",
        "\n",
        "\n",
        "class Weapon:\n",
        "    def __init__(self, name, damage_type, damage):\n",
        "        self.name = name\n",
        "        self.damage_type = damage_type\n",
        "        self.damage = damage\n",
        "        self.carrier = None\n",
        "\n",
        "    def calculate_damage(self, armor):\n",
        "        max_damage = 0\n",
        "        if self.damage_type == 'physical':\n",
        "            max_damage = self.carrier.strength + self.damage * \\\n",
        "                (1 - armor.physic_protection / 100)\n",
        "        elif self.damage_type == 'magical':\n",
        "            max_damage = self.carrier.intelligence + self.damage * \\\n",
        "                (1 - armor.magic_resist / 100)\n",
        "\n",
        "        total_damage = int(random.uniform(0, max_damage))\n",
        "        return total_damage\n",
        "\n",
        "    def attack(self, target):\n",
        "        if self.carrier:\n",
        "            total_damage = self.calculate_damage(target.armor)\n",
        "            target.health -= total_damage\n",
        "\n",
        "            if target.health > 0:\n",
        "                message = (f'{target.name} получил {total_damage} урона '\n",
        "                        f'от {self.carrier.name}.\\n'\n",
        "                        f'Оставшееся здоровье: {target.health}\\n')\n",
        "            elif target.health <= 0:\n",
        "                target.die()\n",
        "                message = f'{target.name} пал от руки {self.carrier.name}.\\n'\n",
        "            print(message)\n",
        "\n",
        "\n",
        "class Armor:\n",
        "    def __init__(self, name, physic_protection, magic_resist):\n",
        "        self.name = name\n",
        "        self.physic_protection = physic_protection\n",
        "        self.magic_resist = magic_resist\n",
        "\n",
        "\n",
        "class Character:\n",
        "    def __init__(self, name, armor, weapon, strength, intelligence, health):\n",
        "        self.name = name\n",
        "        self.armor = armor\n",
        "        self.weapon = weapon\n",
        "        weapon.carrier = self\n",
        "        self.strength = strength\n",
        "        self.intelligence = intelligence\n",
        "        self.health = health\n",
        "        self.is_dead = False\n",
        "\n",
        "    def attack(self, target):\n",
        "        if not self.is_dead:\n",
        "            self.weapon.attack(target)\n",
        "\n",
        "    def die(self):\n",
        "        self.is_dead = True\n"
      ]
    },
    {
      "cell_type": "code",
      "execution_count": null,
      "metadata": {
        "id": "Y8ZQuz7NJy4C"
      },
      "outputs": [],
      "source": [
        "weapons = [\n",
        "    {\n",
        "        \"name\": \"Кинжал\",\n",
        "        \"damage_type\": \"physical\",\n",
        "        \"damage\": 8\n",
        "    },\n",
        "    {\n",
        "        \"name\": \"Меч\",\n",
        "        \"damage_type\": \"physical\",\n",
        "        \"damage\": 15\n",
        "    },\n",
        "    {\n",
        "        \"name\": \"Топор\",\n",
        "        \"damage_type\": \"physical\",\n",
        "        \"damage\": 20\n",
        "    },\n",
        "    {\n",
        "        \"name\": \"Копьё\",\n",
        "        \"damage_type\": \"physical\",\n",
        "        \"damage\": 30\n",
        "    },\n",
        "    {\n",
        "        \"name\": \"Лук\",\n",
        "        \"damage_type\": \"physical\",\n",
        "        \"damage\": 40\n",
        "    },\n",
        "    {\n",
        "        \"name\": \"Арбалет\",\n",
        "        \"damage_type\": \"physical\",\n",
        "        \"damage\": 50\n",
        "    },\n",
        "    {\n",
        "        \"name\": \"Праща\",\n",
        "        \"damage_type\": \"physical\",\n",
        "        \"damage\": 25\n",
        "    },\n",
        "    {\n",
        "        \"name\": \"Булава\",\n",
        "        \"damage_type\": \"physical\",\n",
        "        \"damage\": 60\n",
        "    },\n",
        "    {\n",
        "        \"name\": \"Нож\",\n",
        "        \"damage_type\": \"physical\",\n",
        "        \"damage\": 7\n",
        "    },\n",
        "    {\n",
        "        \"name\": \"Серп\",\n",
        "        \"damage_type\": \"physical\",\n",
        "        \"damage\": 12\n",
        "    },\n",
        "    {\n",
        "        \"name\": \"Посох\",\n",
        "        \"damage_type\": \"magical\",\n",
        "        \"damage\": 10\n",
        "    }\n",
        "]\n",
        "\n",
        "armors = [\n",
        "    {\n",
        "        \"name\": \"Кольчуга\",\n",
        "        \"physic_protection\": 20,\n",
        "        \"magic_resist\": 15\n",
        "    },\n",
        "    {\n",
        "        \"name\": \"Латы\",\n",
        "        \"physic_protection\": 30,\n",
        "        \"magic_resist\": 25\n",
        "    },\n",
        "    {\n",
        "        \"name\": \"Кожаная броня\",\n",
        "        \"physic_protection\": 10,\n",
        "        \"magic_resist\": 5\n",
        "    },\n",
        "    {\n",
        "        \"name\": \"Доспех\",\n",
        "        \"physic_protection\": 40,\n",
        "        \"magic_resist\": 35\n",
        "    },\n",
        "    {\n",
        "        \"name\": \"Кираса\",\n",
        "        \"physic_protection\": 25,\n",
        "        \"magic_resist\": 10\n",
        "    },\n",
        "    {\n",
        "        \"name\": \"Шлем\",\n",
        "        \"physic_protection\": 5,\n",
        "        \"magic_resist\": 0\n",
        "    },\n",
        "    {\n",
        "        \"name\": \"Щит\",\n",
        "        \"physic_protection\": 8,\n",
        "        \"magic_resist\": 6\n",
        "    },\n",
        "    {\n",
        "        \"name\": \"Нагрудник\",\n",
        "        \"physic_protection\": 32,\n",
        "        \"magic_resist\": 22\n",
        "    },\n",
        "    {\n",
        "        \"name\": \"Бармица\",\n",
        "        \"physic_protection\": 14,\n",
        "        \"magic_resist\": 7\n",
        "    },\n",
        "    {\n",
        "        \"name\": \"Панцирь\",\n",
        "        \"physic_protection\": 45,\n",
        "        \"magic_resist\": 37\n",
        "    }\n",
        "]\n",
        "\n",
        "dragon = Character(\n",
        "    name='Дракониус',\n",
        "    armor=Armor(\n",
        "        name='Драконья чешуя',\n",
        "        physic_protection=40,\n",
        "        magic_resist=55\n",
        "    ),\n",
        "    weapon=Weapon(\n",
        "        name='Огненное дыхание',\n",
        "        damage_type='magical',\n",
        "        damage=50\n",
        "    ),\n",
        "    strength=8,\n",
        "    intelligence=10,\n",
        "    health=150\n",
        ")"
      ]
    },
    {
      "cell_type": "code",
      "execution_count": null,
      "metadata": {
        "colab": {
          "base_uri": "https://localhost:8080/"
        },
        "id": "_ytAlf4tKNtX",
        "outputId": "7a730234-0e44-4b8d-9203-4b3e953553c0"
      },
      "outputs": [],
      "source": [
        "def create_character():\n",
        "    name = input('Введите имя вашего персонажа: ')\n",
        "\n",
        "    print('Для дальнейших сражений вам понадобится хорошее снаряжение')\n",
        "\n",
        "    print('Выберете оружие:')\n",
        "    print('№', 'Наименование',\n",
        "          'Тип урона', 'Урон',\n",
        "          sep='\\t')\n",
        "    for n, weapon in enumerate(weapons, 1):\n",
        "        print(n, weapon['name'],\n",
        "              weapon['damage_type'], weapon['damage'])\n",
        "    weapon = Weapon(**weapons[int(input('Введите номер оружия: ')) - 1])\n",
        "\n",
        "    print('Выберете доспехи:')\n",
        "    print('№', 'Наименование',\n",
        "          'Защита от физ. урона', 'Сопротивление маг. урону',\n",
        "          sep='\\t')\n",
        "    for n, armor in enumerate(armors, 1):\n",
        "        print(n, armor['name'],\n",
        "              armor['physic_protection'], armor['magic_resist'])\n",
        "    armor = Armor(**armors[int(input('Введите номер доспеха: ')) - 1])\n",
        "\n",
        "    strength = int(input('Введите значение силы (0 - 10): '))\n",
        "\n",
        "    intelligence = int(input('Введите значение интеллекта (0 - 10): '))\n",
        "\n",
        "    return Character(name, armor, weapon, strength, intelligence, health=100)\n",
        "\n",
        "\n",
        "def main():\n",
        "    knight = create_character()\n",
        "\n",
        "    print(f'{knight.name} не знал чем бы занятся '\n",
        "           'и решил пойти сразиться с драконом.')\n",
        "\n",
        "    input('Нажмите Enter, чтобы продолжить')\n",
        "\n",
        "    print('И вот час битвы настал '\n",
        "          f'{dragon.name} уже был во всю готов сразиться')\n",
        "\n",
        "    input('Нажмите Enter, чтобы продолжить')\n",
        "\n",
        "    while True:\n",
        "        if knight.is_dead or dragon.is_dead:\n",
        "            break\n",
        "        input('Нажмите Enter, чтобы атаковать снова')\n",
        "        knight.attack(dragon)\n",
        "        dragon.attack(knight)\n",
        "\n",
        "\n",
        "if __name__ == '__main__':\n",
        "    main()\n"
      ]
    },
    {
      "cell_type": "markdown",
      "metadata": {
        "id": "b_mJHXcQGI9t"
      },
      "source": [
        "# Дополнительное задание\n"
      ]
    },
    {
      "cell_type": "markdown",
      "metadata": {
        "id": "pnIUdFPcGOVL"
      },
      "source": [
        "Задача: Система управления библиотекой\n",
        "\n",
        "**Цель**\n",
        "Создайте простую систему управления библиотекой, которая позволит пользователям добавлять книги, брать книги, возвращать книги и просматривать список доступных книг.\n",
        "\n",
        "**Требования**\n",
        "\n",
        "1. **Определение класса**:\n",
        "   – Создайте класс с именем «Book» со следующими атрибутами:\n",
        "     - `title`\n",
        "     - `автор`\n",
        "     - `isbn`\n",
        "     - `is_borrowed` (по умолчанию `False`)\n",
        "\n",
        "2. **Класс библиотеки**:\n",
        "   - Создайте класс с именем Library, который управляет коллекцией книг.\n",
        "   - Класс должен иметь следующие методы:\n",
        "     - `__init__(self)`: инициализирует пустой список книг.\n",
        "     - `add_book(self, book: Book)`: добавляет новую книгу в библиотеку.\n",
        "     - `borrow_book(self, isbn: str)`: помечает книгу как заимствованную. Если книга не найдена или уже взята, выведите соответствующее сообщение.\n",
        "     - `return_book(self, isbn: str)`: помечает книгу как возвращенную. Если книга не найдена или не была взята взаймы, выведите соответствующее сообщение.\n",
        "     - `list_available_books(self)`: печатает список всех доступных книг в библиотеке.\n",
        "     - `find_book(self, isbn: str)`: возвращает объект книги, если он найден, в противном случае возвращает `None`.\n",
        "\n",
        "3. **Взаимодействие с пользователем**:\n",
        "   - Создайте простое текстовое меню, которое позволит пользователям:\n",
        "     - Добавить книгу\n",
        "     - Одолжить книгу\n",
        "     - Вернуть книгу\n",
        "     - Список доступных книг\n",
        "     - Выйти из программы"
      ]
    },
    {
      "cell_type": "code",
      "execution_count": null,
      "metadata": {
        "id": "GKKmdfN8GL6f"
      },
      "outputs": [],
      "source": [
        "class Book:\n",
        "    def __init__(self, title, author, isbn):\n",
        "        self.title = title\n",
        "        self.author = author\n",
        "        self.isbn = isbn\n",
        "        self.is_borrowed = False\n",
        "\n",
        "\n",
        "class Library:\n",
        "    def __init__(self):\n",
        "        self.list_of_books = []\n",
        "\n",
        "    def add_book(self, book: Book):\n",
        "        self.list_of_books.append(book)\n",
        "\n",
        "    def borrow_book(self, isbn: str):\n",
        "        book = self.find_book(isbn)\n",
        "        if book is None:\n",
        "            print('Не могу найти книгу.')\n",
        "        elif book.is_borrowed:\n",
        "            print('Эта книга уже заимствованна.')\n",
        "        else:\n",
        "            book.is_borrowed = True\n",
        "            print('Книга заимствованна.')\n",
        "\n",
        "    def return_book(self, isbn: str):\n",
        "        book = self.find_book(isbn)\n",
        "        if book is None:\n",
        "            print('Не могу найти книгу.')\n",
        "        elif not book.is_borrowed:\n",
        "            print('Эта книга не была заимствованна.')\n",
        "        else:\n",
        "            book.is_borrowed = False\n",
        "            print('Книга возвращена.')\n",
        "\n",
        "    def list_available_books(self):\n",
        "        print(self.list_of_books)\n",
        "\n",
        "    def find_book(self, isbn: str):\n",
        "        for book in self.list_of_books:\n",
        "            if book.isbn == isbn:\n",
        "                return book\n",
        "        else:\n",
        "            return None"
      ]
    },
    {
      "cell_type": "code",
      "execution_count": null,
      "metadata": {
        "id": "0j8ImpAvXE0v"
      },
      "outputs": [],
      "source": [
        "library = Library()\n",
        "\n",
        "books = [\n",
        "\n",
        "]\n",
        "\n",
        "for book in books:\n",
        "    library.add_book(Book(**book))"
      ]
    },
    {
      "cell_type": "code",
      "execution_count": null,
      "metadata": {
        "id": "eOB7R-rxX8JG"
      },
      "outputs": [],
      "source": [
        "def main():\n",
        "    pass\n",
        "\n",
        "\n",
        "if __name__ == '__main__':\n",
        "    main()"
      ]
    }
  ],
  "metadata": {
    "colab": {
      "provenance": []
    },
    "kernelspec": {
      "display_name": "Python 3",
      "name": "python3"
    },
    "language_info": {
      "name": "python"
    }
  },
  "nbformat": 4,
  "nbformat_minor": 0
}
