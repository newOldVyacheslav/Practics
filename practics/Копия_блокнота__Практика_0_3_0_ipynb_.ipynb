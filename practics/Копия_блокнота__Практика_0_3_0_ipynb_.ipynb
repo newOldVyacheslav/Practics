{
  "cells": [
    {
      "cell_type": "markdown",
      "metadata": {
        "id": "phMKaFq3DN13"
      },
      "source": [
        "ФИО"
      ]
    },
    {
      "cell_type": "code",
      "execution_count": null,
      "metadata": {
        "id": "3CWpaI7SDK8t"
      },
      "outputs": [],
      "source": []
    },
    {
      "cell_type": "markdown",
      "metadata": {
        "id": "jyIy3GOgFOCe"
      },
      "source": [
        "**Во всей практике нельзя применять библиотеки предоставляющие готовые решения!**"
      ]
    },
    {
      "cell_type": "markdown",
      "metadata": {
        "id": "XizmlL1RK2t3"
      },
      "source": [
        "# **Задача 1.**\n"
      ]
    },
    {
      "cell_type": "markdown",
      "metadata": {
        "id": "p0v6KtHTFKSd"
      },
      "source": [
        "\n",
        "\n",
        "Типы данных Напишите программу на Python, которая принимает список чисел в качестве входных данных от пользователя, а затем выводит сумму, среднее значение и максимальное значение из списка.\n",
        "\n",
        "***Нельзя использовать: len(), min(), max(), average(), sum()***\n",
        "\n",
        "Дано:\n",
        "```\n",
        "1 2 3 4 5 6 7\n",
        "```\n",
        "Вывод:\n",
        "\n",
        "```\n",
        "Сумма чисел: 28\n",
        "Среднее арифм.: 4.0\n",
        "Максимальное значение: 7\n",
        "```\n",
        "\n"
      ]
    },
    {
      "cell_type": "code",
      "execution_count": null,
      "metadata": {
        "colab": {
          "base_uri": "https://localhost:8080/"
        },
        "id": "0e1Virl0FpF6",
        "outputId": "c668437e-3b2c-4e04-903a-92049099803b"
      },
      "outputs": [],
      "source": [
        "def get_sum(nums):\n",
        "  total_sum = 0\n",
        "  for num in nums:\n",
        "    total_sum += num\n",
        "  return total_sum\n",
        "\n",
        "\n",
        "def get_length(x):\n",
        "  count = 0\n",
        "  for element in x:\n",
        "    count += 1\n",
        "  return count\n",
        "\n",
        "\n",
        "def arithmetic_mean(nums):\n",
        "  return get_sum(nums) / get_length(nums)\n",
        "\n",
        "\n",
        "def get_max(nums):\n",
        "  max_value = nums[0]\n",
        "  for num in nums[1:]:\n",
        "    if num > max_value:\n",
        "      max_value = num\n",
        "  return max_value\n",
        "\n",
        "\n",
        "numbers = list(map(int, input().split()))\n",
        "print(\n",
        "    f'Сумма чисел: {get_sum(numbers)}\\n'\n",
        "    f'Среднее арифм.: {arithmetic_mean(numbers)}\\n'\n",
        "    f'Максимальное значение: {get_max(numbers)}'\n",
        ")"
      ]
    },
    {
      "cell_type": "markdown",
      "metadata": {
        "id": "uFluc5OSK0NH"
      },
      "source": [
        "# **Задача 2.**"
      ]
    },
    {
      "cell_type": "markdown",
      "metadata": {
        "id": "6T8vg324GG4Z"
      },
      "source": [
        "\n",
        "Напишите программу на Python, которая принимает список слов в качестве входных данных от пользователя, а затем распечатывает список в обратном порядке.\n",
        "\n",
        "Ввод:\n",
        "\n",
        "```\n",
        "апельсин мандарин яблоко\n",
        "```\n",
        "\n",
        "Вывод:\n",
        "\n",
        "```\n",
        "яблоко мандарин апельсин\n",
        "```"
      ]
    },
    {
      "cell_type": "code",
      "execution_count": null,
      "metadata": {
        "colab": {
          "base_uri": "https://localhost:8080/"
        },
        "id": "v3AWj4ufGKox",
        "outputId": "5471e53b-72ac-4225-843a-271a8b755fa7"
      },
      "outputs": [],
      "source": [
        "words = input().split()\n",
        "print(*words[::-1])"
      ]
    },
    {
      "cell_type": "markdown",
      "metadata": {
        "id": "D1KkCxtIKxRx"
      },
      "source": [
        "# **Задача 3**"
      ]
    },
    {
      "cell_type": "markdown",
      "metadata": {
        "id": "Yq8Jgb9yHvSi"
      },
      "source": [
        "Простой чат-бот\n",
        "Создайте простого чат-бота, который отвечает на основные запросы пользователей. Программа должна использовать условные выражения для определения намерений пользователя и последующего соответствующего ответа.\n",
        "\n",
        "Чат бот может:\n",
        "\n",
        "- помогать складывать числа\n",
        "- подсказывать фильм, музыку и тд (из заранее созданного списка)\n",
        "- создавать список дел (а также выводить его, обновлять, очищать)\n",
        "\n",
        "Интерфейс чат-бота на ваше усмотрение, это могут быть как заранее определенные команды, так и к примеру вызов команды по номеру\n",
        "\n",
        "*Реализовать без использования функций*\n",
        "\n",
        "Пример:\n",
        "\n",
        "Ввод:\n",
        "\n",
        "```\n",
        "Олег, какую мызыку посоветуешь?\n",
        "```\n",
        "\n",
        "Вывод:\n",
        "\n",
        "```\n",
        "Я бы посоветовал вам: Led Zeppelin Stairway to Heaven\n",
        "```"
      ]
    },
    {
      "cell_type": "code",
      "execution_count": null,
      "metadata": {
        "colab": {
          "base_uri": "https://localhost:8080/"
        },
        "collapsed": true,
        "id": "fmW-tmUtINN9",
        "outputId": "f5d3ef66-30f9-4c7a-e94b-f90fe1632dd0"
      },
      "outputs": [],
      "source": [
        "import random\n",
        "\n",
        "\n",
        "commands_list = [\n",
        "    'сложи',\n",
        "    'посоветуй фильм / музыку',\n",
        "    'список дел',\n",
        "    'выйти'\n",
        "]\n",
        "\n",
        "todo_list_commands = [\n",
        "    'создать список дел',\n",
        "    'вывести',\n",
        "    'обновить',\n",
        "    'очистить',\n",
        "    'удалить',\n",
        "    'выйти'\n",
        "]\n",
        "\n",
        "music_list = [\n",
        "    'Led Zeppelin Stairway to Heaven',\n",
        "    'Red Hot Chili Peppers Californication',\n",
        "    'Iron Maiden Fear of the Dark',\n",
        "    'The Rolling Stones Paint It, Black'\n",
        "]\n",
        "\n",
        "film_list = [\n",
        "    'Interstellar',\n",
        "    'Jarhead',\n",
        "    'Pirates of the Caribbean - The Curse of the Black Pearl',\n",
        "    'Avengers'\n",
        "]\n",
        "\n",
        "\n",
        "print(\n",
        "    'Привет, меня зовут Олег, я умею выполнять следующие команды:',\n",
        "    *commands_list,\n",
        "    sep = '\\n\\t- '\n",
        "    )\n",
        "\n",
        "while True:\n",
        "  message = input().lower().split()\n",
        "\n",
        "  if 'выйти' in message:\n",
        "    break\n",
        "  elif 'сложи' in message:\n",
        "    numbers = [int(i) for i in message if i.isdigit()]\n",
        "    total_sum = 0\n",
        "    for num in numbers:\n",
        "      total_sum += num\n",
        "    print(f'Ответ: {total_sum}')\n",
        "  elif 'музыку' in message:\n",
        "    print(f'Я бы посоветовал вам: {random.choice(music_list)}')\n",
        "  elif 'фильм' in message:\n",
        "    print(f'Я бы посоветовал вам: {random.choice(film_list)}')\n",
        "  elif 'список' and 'дел' in message:\n",
        "    print('Что вы хотите сделать?:', *todo_list_commands, sep = '\\n\\t- ')\n",
        "    while True:\n",
        "\n",
        "      message = input().lower().split()\n",
        "\n",
        "      if 'выйти' in message:\n",
        "        break\n",
        "      elif 'создать' in message:\n",
        "        todo_list = []\n",
        "        print('Список дел создан!')\n",
        "      elif 'вывести' in message:\n",
        "        try:\n",
        "          print('',*todo_list, sep = '\\n-', end = '\\n\\n')\n",
        "        except NameError:\n",
        "          print('Для начала создайте список дел')\n",
        "      elif 'обновить' in message:\n",
        "        try:\n",
        "          todo_list.append(input('Добавьте новое дело:\\n'))\n",
        "          print('Добавлено!')\n",
        "        except NameError:\n",
        "          print('Для начала создайте список дел')\n",
        "      elif 'очистить' in message:\n",
        "        try:\n",
        "          todo_list.clear()\n",
        "          print('Список дел очищен!')\n",
        "        except NameError:\n",
        "          print('Для начала создайте список дел')\n",
        "      elif 'удалить' in message:\n",
        "        try:\n",
        "          del todo_list\n",
        "          print('Список дел удалён!')\n",
        "        except NameError:\n",
        "          print('Для начала создайте список дел')\n",
        "      else:\n",
        "          print('Неизвестная команда!')\n",
        "\n",
        "  else:\n",
        "    print('Неизвестная команда!')"
      ]
    },
    {
      "cell_type": "markdown",
      "metadata": {
        "id": "PHXBfyc6Ko7D"
      },
      "source": [
        "# **Задача 4.**\n"
      ]
    },
    {
      "cell_type": "markdown",
      "metadata": {
        "id": "jnKWeYleI0j6"
      },
      "source": [
        "Камень, ножницы, бумага\n",
        "\n",
        "Создайте игру в Камень, ножницы, бумагу, в которой пользователь может играть против компьютера. Программа должна запросить выбор пользователя, а затем сгенерировать выбор компьютера. Затем программа должна определить победителя на основе правил игры.\n",
        "\n",
        "**Этап 1:**\n",
        "\n",
        "Определение победителя\n",
        "\n",
        "**Этап 2:**\n",
        "  \n",
        "Игра до 3 побед\n",
        "\n",
        "\n",
        "Ввод для \"Этап 1\":\n",
        "\n",
        "```\n",
        "Камень\n",
        "```\n",
        "\n",
        "Вывод:\n",
        "\n",
        "```\n",
        "Компьютер: Ножницы\n",
        "Игрок: Камень\n",
        "Победа: Игрок\n",
        "```"
      ]
    },
    {
      "cell_type": "code",
      "execution_count": null,
      "metadata": {
        "colab": {
          "base_uri": "https://localhost:8080/"
        },
        "collapsed": true,
        "id": "ooIPCRe_JHkX",
        "outputId": "abb64dfc-f2de-4692-9796-d9ad1b07bd70"
      },
      "outputs": [],
      "source": [
        "import random\n",
        "\n",
        "\n",
        "computer_wins_count = 0\n",
        "player_wins_count = 0\n",
        "game_count = 0\n",
        "\n",
        "while computer_wins_count < 3 and player_wins_count < 3:\n",
        "\n",
        "  rock_paper_scissors = ['Ножницы', 'Камень', 'Бумага', 'Ножницы', 'Камень']\n",
        "  computer_choice = random.randint(1,3)\n",
        "  rock_paper_scissors = rock_paper_scissors[computer_choice-1: computer_choice+2]\n",
        "  computer_choice = 1\n",
        "  try:\n",
        "    player_choice = rock_paper_scissors.index(\n",
        "        input('Камень / Ножницы / Бумага?\\n').capitalize()\n",
        "        )\n",
        "  except ValueError:\n",
        "    print('Неверный ввод')\n",
        "    continue\n",
        "\n",
        "  game_count += 1\n",
        "  win = ''\n",
        "  if player_choice > computer_choice:\n",
        "    win = 'Игрок'\n",
        "    player_wins_count += 1\n",
        "  elif player_choice == computer_choice:\n",
        "    win = 'Ничья'\n",
        "  else:\n",
        "    win = 'Компьютер'\n",
        "    computer_wins_count += 1\n",
        "\n",
        "\n",
        "  print(\n",
        "    f'\\nИгра номер {game_count}\\n'\n",
        "    f'Компьютер: {rock_paper_scissors[computer_choice]}\\n'\n",
        "    f'Игрок: {rock_paper_scissors[player_choice]}\\n'\n",
        "    f'Победа: {win}\\n'\n",
        "    f'Побед Компьютера: {computer_wins_count}\\n'\n",
        "    f'Побед Игрока: {player_wins_count}\\n'\n",
        "  )\n",
        "\n",
        "else:\n",
        "  if player_wins_count > computer_wins_count:\n",
        "    print('Победитель - Игрок!')\n",
        "  else:\n",
        "    print('Победитель - Компьютер!')"
      ]
    },
    {
      "cell_type": "markdown",
      "metadata": {
        "id": "Hg4FJNFbLHQO"
      },
      "source": [
        "# **Задача 6.**"
      ]
    },
    {
      "cell_type": "markdown",
      "metadata": {
        "id": "OHqj3HJuLJgY"
      },
      "source": [
        "Создайте игру \"Палач\" или \"Виселица\", в которой пользователь должен угадать слово, предлагая буквы. Программа должна выбрать случайное слово, а затем разрешить пользователю угадывать буквы. После каждого угадывания программа должна сообщать пользователю, есть ли в слове буква или нет.\n",
        "\n",
        "**Этап 1**\n",
        "Создать саму игру\n",
        "\n",
        "**Этап 2:**\n",
        "Ввести подсчет количества очков и ограничения на попытки\n",
        "\n",
        "**Этап 3:** Добавить возможность сразу угадать слово"
      ]
    },
    {
      "cell_type": "code",
      "execution_count": null,
      "metadata": {
        "colab": {
          "base_uri": "https://localhost:8080/"
        },
        "id": "0N2zCYwVLiIw",
        "outputId": "6a4692ba-54d7-4310-fb4d-3e939b3ec8a1"
      },
      "outputs": [],
      "source": [
        "import random\n",
        "\n",
        "\n",
        "words_list = [\n",
        "    \"акварель\",\n",
        "    \"апельсин\",\n",
        "    \"бадья\",\n",
        "    \"вершина\",\n",
        "    \"гнев\",\n",
        "    \"дефект\",\n",
        "    \"жадность\",\n",
        "    \"загадка\",\n",
        "    \"инициатива\",\n",
        "    \"каникулы\",\n",
        "    \"лабиринт\",\n",
        "    \"маятник\",\n",
        "    \"натюрморт\",\n",
        "    \"обелиск\",\n",
        "    \"параллель\",\n",
        "    \"рельеф\"\n",
        "]\n",
        "\n",
        "hidden_word = random.choice(words_list)\n",
        "word_length = len(hidden_word)\n",
        "word = ['_'] * word_length\n",
        "\n",
        "score = 0\n",
        "attemption_limit = 5\n",
        "\n",
        "print(f'Длина загаданного слова: {word_length}')\n",
        "print(f'Всего попыток: {attemption_limit}')\n",
        "print('Чтобы назвать слово целиком: напишите \"слово\"')\n",
        "print(*word)\n",
        "\n",
        "\n",
        "while '_' in word:\n",
        "  if attemption_limit > 0:\n",
        "    message = input('Буква или слово: ')\n",
        "\n",
        "    if message == 'слово':\n",
        "      attemption_limit = 0\n",
        "      full_word = input('Слово: ')\n",
        "      if full_word == hidden_word:\n",
        "        word = full_word\n",
        "        score = 100\n",
        "    elif message == 'буква':\n",
        "      letter = input('Буква: ')\n",
        "      if letter in word:\n",
        "        print('Вы уже угадали эту букву!')\n",
        "      elif letter in hidden_word:\n",
        "        for i in range(word_length):\n",
        "          if letter == hidden_word[i]:\n",
        "            word[i] = letter\n",
        "            score += 100/word_length\n",
        "        print(*word, f'| Ваш счёт: {round(score,2)}')\n",
        "      else:\n",
        "        attemption_limit -= 1\n",
        "        print('Такой буквы в слове нет!')\n",
        "        print(f'Оставшееся кол-во попыток: {attemption_limit}')\n",
        "    else:\n",
        "      print('Неверный ввод!')\n",
        "      continue\n",
        "  else:\n",
        "    print(f'Вы проиграли! | Ваш счёт: {score}')\n",
        "    print(f'Загаданное слово: {hidden_word}')\n",
        "    break\n",
        "\n",
        "else:\n",
        "  print(f'Вы угадали слово! | Ваш счёт: {score}')"
      ]
    },
    {
      "cell_type": "markdown",
      "metadata": {
        "id": "w0x3QFGzKtDD"
      },
      "source": [
        "# **Дополнительно: Задача 7.**\n"
      ]
    },
    {
      "cell_type": "markdown",
      "metadata": {
        "id": "QqZArcpHJxVj"
      },
      "source": [
        "\n",
        "**Цифра на определенном месте:**\n",
        "\n",
        "Последовательно записан натуральный ряд чисел.\n",
        "\n",
        "Какая цифра стоит в N позиции\n",
        "\n",
        "\n",
        "Вввод:\n",
        "\n",
        "```\n",
        "Введите номер позиции: 1234567890\n",
        "```\n",
        "\n",
        "Вывод:\n",
        "\n",
        "```\n",
        "8\n",
        "```"
      ]
    },
    {
      "cell_type": "code",
      "execution_count": null,
      "metadata": {
        "colab": {
          "base_uri": "https://localhost:8080/"
        },
        "id": "LwjYwBGcKiJ9",
        "outputId": "e669f06f-94e4-4337-ae2f-2fbd56adb8b4"
      },
      "outputs": [],
      "source": [
        "pos = 0\n",
        "num = 0\n",
        "result = 0\n",
        "N = int(input('Введите номер позиции: '))\n",
        "\n",
        "while pos < N:\n",
        "  num += 1\n",
        "  for i in str(num):\n",
        "    pos += 1\n",
        "    result = i\n",
        "print(result)"
      ]
    }
  ],
  "metadata": {
    "colab": {
      "provenance": []
    },
    "kernelspec": {
      "display_name": "Python 3",
      "name": "python3"
    },
    "language_info": {
      "name": "python"
    }
  },
  "nbformat": 4,
  "nbformat_minor": 0
}
