{
  "cells": [
    {
      "cell_type": "code",
      "execution_count": null,
      "metadata": {
        "colab": {
          "base_uri": "https://localhost:8080/",
          "height": 111
        },
        "id": "HboMqgQA_jg7",
        "outputId": "20d4f94f-58ad-4ef4-fe09-a807ce7a9948"
      },
      "outputs": [],
      "source": []
    },
    {
      "cell_type": "markdown",
      "metadata": {
        "id": "ZLVI_WIcuT56"
      },
      "source": [
        "ФИО:"
      ]
    },
    {
      "cell_type": "code",
      "execution_count": null,
      "metadata": {
        "id": "3AfG_Tal0P2S"
      },
      "outputs": [],
      "source": []
    },
    {
      "cell_type": "markdown",
      "metadata": {
        "id": "Gtm1UjYgDlY7"
      },
      "source": [
        "## Задание 1. HTTP-запросы, ответы и погода"
      ]
    },
    {
      "cell_type": "markdown",
      "metadata": {
        "id": "FtjnLNIKzfMZ"
      },
      "source": [
        "Описание:\n",
        "\n",
        "Напишите HTTP-запрос для получения информации о погоде в введенном городе из API.\n",
        "\n",
        "Можно использовать API: https://open-meteo.com/. Используйте метод GET.\n",
        "\n",
        "\n",
        "Ввод\n",
        "```\n",
        "56.50, 60.35\n",
        "```\n",
        "\n",
        "Вывод\n",
        "```\n",
        "Сегодня (1.11) погода 20 ◦С, нет осадков, туман\n",
        "```\n",
        "\n",
        "\n",
        "\n"
      ]
    },
    {
      "cell_type": "code",
      "execution_count": null,
      "metadata": {
        "colab": {
          "base_uri": "https://localhost:8080/"
        },
        "id": "5Mbs40_buVRV",
        "outputId": "9ed99f04-3ec2-48ca-bb80-d32c3085589c"
      },
      "outputs": [],
      "source": [
        "import requests\n",
        "import datetime\n",
        "\n",
        "\n",
        "def get_weather(latitude, longitude):\n",
        "    URL = f\"https://api.open-meteo.com/v1/forecast?\"\n",
        "    params = {\n",
        "        \"latitude\": latitude,\n",
        "        \"longitude\": longitude,\n",
        "        \"current\": \"temperature_2m,precipitation,weather_code\",\n",
        "    }\n",
        "\n",
        "    response = requests.get(URL, params)\n",
        "    return response.json()\n",
        "\n",
        "\n",
        "def print_weather(data):\n",
        "    date = datetime.date.today().strftime(\"%d.%m\")\n",
        "\n",
        "    temperature = data[\"current\"][\"temperature_2m\"]\n",
        "\n",
        "    precipitation_mm = data[\"current\"][\"precipitation\"]\n",
        "    if precipitation_mm > 0:\n",
        "        precipitation = f\"precipitation {precipitation_mm}mm\"\n",
        "    else:\n",
        "        precipitation = \"no precipitation\"\n",
        "\n",
        "    weather_code = data[\"current\"][\"weather_code\"]\n",
        "    other_signs = weather_interpritation_codes[str(weather_code)]\n",
        "\n",
        "    print(f\"Today ({date}) the weather is {temperature} °C, {precipitation}, {other_signs}\")\n",
        "\n",
        "\n",
        "def main():\n",
        "    coordinates = input(\"Enter your coordinates: \").split(\", \")\n",
        "    data = get_weather(*coordinates)\n",
        "    print_weather(data)\n",
        "\n",
        "\n",
        "weather_interpritation_codes = {\n",
        "    \"0\": \"Clear sky\",\n",
        "    \"1\": \"Mainly clear\",\n",
        "    \"2\": \"Partly cloudy\",\n",
        "    \"3\": \"Overcast\",\n",
        "    \"45\": \"Fog\",\n",
        "    \"48\": \"Depositing rime fog\",\n",
        "    \"51\": \"Drizzle: Light intensity\",\n",
        "    \"53\": \"Drizzle: Moderate intensity\",\n",
        "    \"55\": \"Drizzle: Dense intensity\",\n",
        "    \"56\": \"Freezing Drizzle: Light intensity\",\n",
        "    \"57\": \"Freezing Drizzle: Dense intensity\",\n",
        "    \"61\": \"Rain: Slight intensity\",\n",
        "    \"63\": \"Rain: Moderate intensity\",\n",
        "    \"65\": \"Rain: Heavy intensity\",\n",
        "    \"66\": \"Freezing Rain: Light intensity\",\n",
        "    \"67\": \"Freezing Rain: Heavy intensity\",\n",
        "    \"71\": \"Snow fall: Slight intensity\",\n",
        "    \"73\": \"Snow fall: Moderate intensity\",\n",
        "    \"75\": \"Snow fall: Heavy intensity\",\n",
        "    \"77\": \"Snow grains\",\n",
        "    \"80\": \"Rain showers: Slight intensity\",\n",
        "    \"81\": \"Rain showers: Moderate intensity\",\n",
        "    \"82\": \"Rain showers: Violent intensity\",\n",
        "    \"85\": \"Snow showers slight intensity\",\n",
        "    \"86\": \"Snow showers heavy intensity\",\n",
        "    \"95\": \"Thunderstorm: Slight or moderate\",\n",
        "    \"96\": \"Thunderstorm with slight hail\",\n",
        "    \"99\": \"Thunderstorm with heavy hail\"\n",
        "}\n",
        "\n",
        "main()"
      ]
    },
    {
      "cell_type": "markdown",
      "metadata": {
        "id": "FYjU9WmVDoGs"
      },
      "source": [
        "## Задание 2. HTTP-запросы, ответы и покемоны"
      ]
    },
    {
      "cell_type": "markdown",
      "metadata": {
        "id": "oZ1guEbl0PZm"
      },
      "source": [
        "**Описание:**\n",
        "\n",
        "\n",
        "Создайте код программы, которая будет взаимодействовать с API, со следующим функионалом:\n",
        "\n",
        "1. Используя метод GET, отправьте запрос на endpoint /pokemon, чтобы получить список первых 20 покемонов\n",
        "\n",
        "2. Извлеките имена покемонов из ответа и выведите их списком\n",
        "\n",
        "3. Введите с помощью input() название одного из покемонов\n",
        "\n",
        "\n",
        "```\n",
        "Имя покемона: clefairy\n",
        "```\n",
        "\n",
        "\n",
        "\n",
        "4. Отправьте GET-запрос, чтобы получить полную информацию о выбранном покемоне\n",
        "\n",
        "5. Извлеките и выведите следующие данные о введенном покемоне:\n",
        "\n",
        "     • Имя\n",
        "\n",
        "     • Тип\n",
        "\n",
        "     • Вес\n",
        "\n",
        "     • Рост\n",
        "\n",
        "     • Способности\n",
        "\n",
        "Используйте PokéAPI (https://pokeapi.co/), который предоставляет информацию о покемонах, их характеристиках, типах и другую информацию."
      ]
    },
    {
      "cell_type": "code",
      "execution_count": null,
      "metadata": {
        "colab": {
          "base_uri": "https://localhost:8080/"
        },
        "id": "JkFmivjp25NL",
        "outputId": "24d5b50b-1ab8-4ad8-d87f-89973369ac76"
      },
      "outputs": [],
      "source": [
        "import requests\n",
        "\n",
        "\n",
        "def send_request(url, **params):\n",
        "    with requests.get(url, params) as response:\n",
        "        data = response.json()\n",
        "    return data\n",
        "\n",
        "\n",
        "def get_pokemon_list(page_number=1, quantity=20):\n",
        "    URL = f\"https://pokeapi.co/api/v2/pokemon/?\"\n",
        "    params = {\n",
        "        \"offset\": (page_number - 1) * quantity,\n",
        "        \"limit\": quantity,\n",
        "    }\n",
        "    data = send_request(URL, **params)\n",
        "\n",
        "    result = []\n",
        "    for pokemon in data[\"results\"]:\n",
        "        name = pokemon[\"name\"]\n",
        "        result.append(name)\n",
        "    return result\n",
        "\n",
        "\n",
        "def get_pokemon_info(name):\n",
        "    url = f\"https://pokeapi.co/api/v2/pokemon/{name}\"\n",
        "\n",
        "    data = send_request(url)\n",
        "\n",
        "    height = data[\"height\"]\n",
        "\n",
        "    weight = data[\"weight\"]\n",
        "\n",
        "    types = []\n",
        "    for type_info in data[\"types\"]:\n",
        "        type_name = type_info[\"type\"][\"name\"]\n",
        "        types.append(type_name)\n",
        "\n",
        "    abilities = []\n",
        "    for ability_info in data[\"abilities\"]:\n",
        "        ability_name = ability_info[\"ability\"][\"name\"]\n",
        "        abilities.append(ability_name)\n",
        "\n",
        "    return {\n",
        "        \"name\": name,\n",
        "        \"height\": height,\n",
        "        \"weight\": weight,\n",
        "        \"abilities\": abilities,\n",
        "        \"types\": types,\n",
        "    }\n",
        "\n",
        "\n",
        "def main():\n",
        "    pokemons = get_pokemon_list()\n",
        "    print(*pokemons, sep=\", \")\n",
        "\n",
        "    pokemon_name = input(\"Enter pokemon name: \").lower()\n",
        "    pokemon_info = get_pokemon_info(pokemon_name)\n",
        "\n",
        "    for k, v in pokemon_info.items():\n",
        "        print(k, end=\" - \")\n",
        "        if type(v) == list:\n",
        "            print(*v, sep=\", \")\n",
        "        else:\n",
        "            print(v)\n",
        "\n",
        "\n",
        "main()\n"
      ]
    },
    {
      "cell_type": "markdown",
      "metadata": {
        "id": "Ci07uZdADue9"
      },
      "source": [
        "## Задание 3. HTTP-запросы, ответы и посты"
      ]
    },
    {
      "cell_type": "markdown",
      "metadata": {
        "id": "h194KTer1-B3"
      },
      "source": [
        "**Описание:**\n",
        "\n",
        "Создайте программу, которая будет взаимодействовать с JSONPlaceholder API, реализуя следующие функции:\n",
        "\n",
        "1. Реализуйте функцию, которая выполняет GET-запрос к https://jsonplaceholder.typicode.com/posts и возвращает список постов в формате JSON\n",
        "\n",
        "2. Реализуйте функцию, котороая получает вводимое ID поста, выполняет GET-запрос по ID и возвращает данные поста в формате JSON\n",
        "\n",
        "3. Реализуйте функцию, которая выполняет обработку JSON из пункта 2 и выводит всю важную информацию в консоль"
      ]
    },
    {
      "cell_type": "code",
      "execution_count": null,
      "metadata": {
        "id": "YANQx4o258Zn"
      },
      "outputs": [],
      "source": [
        "import requests\n",
        "import json\n",
        "\n",
        "\n",
        "def send_request(url):\n",
        "    with requests.get(url) as response:\n",
        "        data = response.text\n",
        "    return data\n",
        "\n",
        "\n",
        "def get_posts():\n",
        "    URL = \"https://jsonplaceholder.typicode.com/posts\"\n",
        "    data = send_request(URL)\n",
        "    return data\n",
        "\n",
        "\n",
        "def get_post(id):\n",
        "    url = f\"https://jsonplaceholder.typicode.com/posts/{id}\"\n",
        "    data = send_request(url)\n",
        "    return data\n",
        "\n",
        "\n",
        "def process_data(data):\n",
        "    data = json.loads(data)\n",
        "    for k, v in data.items():\n",
        "        print(f\"{k}: {v}\")\n",
        "\n",
        "\n",
        "def main():\n",
        "    data = get_post(input(\"Введите id поста: \"))\n",
        "    process_data(data)\n",
        "\n",
        "\n",
        "main()\n"
      ]
    },
    {
      "cell_type": "markdown",
      "metadata": {
        "id": "rtwepQvJDy9N"
      },
      "source": [
        "## Задание 4. HTTP-запросы, ответы и работа с постами"
      ]
    },
    {
      "cell_type": "markdown",
      "metadata": {
        "id": "4MjiaxDM58ta"
      },
      "source": [
        "**Описание**\n",
        "\n",
        "Создайте программу, которая будет взаимодействовать с JSONPlaceholder API (из предыдущего задания), реализуя новые функции:\n",
        "\n",
        "1. Реализуйте функцию, которая принимает заголовок, содержимое и ID пользователя (информация вводится с помощью input()), выполняет POST-запрос для создания нового поста и возвращает информацию о созданном посте в формате JSON\n",
        "\n",
        "\n",
        "```\n",
        "Заголовок: Новый пост\n",
        "Содержимое поста: Тут должно находиться содержимое нового поста...\n",
        "ID пользователя: 10\n",
        "```\n",
        "\n",
        "\n",
        "\n",
        "2. Реализуйте функцию, которая принимает ID поста, новый заголовок и новое содержимое, выполняет PUT-запрос и возвращает обновлённый пост в формате JSON\n",
        "\n",
        "3. Реализуйте функцию, которая принимает ID поста, выполняет DELETE-запрос и возвращает статус-код ответа"
      ]
    },
    {
      "cell_type": "code",
      "execution_count": null,
      "metadata": {
        "colab": {
          "base_uri": "https://localhost:8080/"
        },
        "id": "jZUIdwq96DNl",
        "outputId": "f8617025-9889-4338-816d-1bce3afe01e9"
      },
      "outputs": [],
      "source": [
        "import requests\n",
        "\n",
        "\n",
        "def send_request(method, url, **data):\n",
        "    with requests.request(method, url, json=data) as response:\n",
        "        if method == \"DELETE\":\n",
        "            code = response.status_code\n",
        "            if code == 200:\n",
        "                print(\"Удаление прошло успешно\")\n",
        "            else:\n",
        "                print(\"Что-то пошло не так\")\n",
        "            return code\n",
        "        data = response.text\n",
        "\n",
        "    return data\n",
        "\n",
        "\n",
        "def create_new_post():\n",
        "    data = {\n",
        "        \"title\": input(\"Заголовок: \"),\n",
        "        \"body\": input(\"Содержимое поста: \"),\n",
        "        \"user_id\": input(\"ID пользователя: \"),\n",
        "    }\n",
        "\n",
        "    URL = \"https://jsonplaceholder.typicode.com/posts/\"\n",
        "    return send_request(\"POST\", URL, **data)\n",
        "\n",
        "\n",
        "def update_post():\n",
        "    data = {\n",
        "        \"id\": input(\"ID поста: \"),\n",
        "        \"title\": input(\"Заголовок: \"),\n",
        "        \"body\": input(\"Содержимое поста: \"),\n",
        "        \"user_id\": input(\"ID пользователя: \"),\n",
        "    }\n",
        "\n",
        "    url = f\"https://jsonplaceholder.typicode.com/posts/{data['id']}\"\n",
        "    return send_request(\"PUT\", url, **data)\n",
        "\n",
        "\n",
        "def delete_post():\n",
        "    post_id = input(\"ID поста: \")\n",
        "    url = f\"https://jsonplaceholder.typicode.com/posts/{post_id}\"\n",
        "    return send_request(\"DELETE\", url)\n",
        "\n",
        "\n",
        "def main():\n",
        "    commands = {\n",
        "        \"new\": \"Создать новый пост\",\n",
        "        \"update\": \"Обновить существующий пост\",\n",
        "        \"delete\": \"Удалить пост\",\n",
        "        \"exit\": \"Выход\"\n",
        "    }\n",
        "    print(\"Список комманд:\")\n",
        "    for k, v in commands.items():\n",
        "        print(f\"{k} - {v}\")\n",
        "\n",
        "    while True:\n",
        "        command = input('Введите команду: ')\n",
        "        if command == \"new\":\n",
        "            create_new_post()\n",
        "        elif command == \"update\":\n",
        "            update_post()\n",
        "        elif command == \"delete\":\n",
        "            delete_post()\n",
        "        elif command == \"exit\":\n",
        "            break\n",
        "\n",
        "\n",
        "main()"
      ]
    },
    {
      "cell_type": "markdown",
      "metadata": {
        "id": "0UoRc9vOD3XT"
      },
      "source": [
        "## Задание 5. HTTP-запросы, ответы и пёсики"
      ]
    },
    {
      "cell_type": "markdown",
      "metadata": {
        "id": "y0EyPsFQ6mSZ"
      },
      "source": [
        "**Описание**\n",
        "\n",
        "Создайте программу, которая будет взаимодействовать с Dog API, которая позволит получать список пород собак, вводить несколько пород и получать их фотогрфии.\n",
        "\n",
        "Этапы:\n",
        "\n",
        "1. Создайте функцию, которая использует метод GET и возвращает список всех пород собак в формате нумерованного списка\n",
        "\n",
        "2. Реализуйте возможность ввода нескольких пород собак через запятую\n",
        "\n",
        "\n",
        "```\n",
        "african, chow, dingo\n",
        "```\n",
        "\n",
        "\n",
        "\n",
        "3. Создание функции, которая реализует запрос, возвращает и выводит изображениия собак, породы которых были введены до этого\n",
        "\n",
        "\n",
        "Используйте Dog API (https://dog.ceo/dog-api/), который предоставляет информацию о породах собак и их изображения.\n"
      ]
    },
    {
      "cell_type": "code",
      "execution_count": null,
      "metadata": {
        "colab": {
          "base_uri": "https://localhost:8080/"
        },
        "id": "5xti3KRP4Kzp",
        "outputId": "bb572072-13ab-4e82-cc2a-c418b301eed1"
      },
      "outputs": [],
      "source": [
        "import requests\n",
        "import webbrowser\n",
        "\n",
        "\n",
        "def send_request(url):\n",
        "    with requests.get(url) as response:\n",
        "        data = response.json()\n",
        "    return data\n",
        "\n",
        "\n",
        "def get_list_of_all_breeds():\n",
        "    URL = \"https://dog.ceo/api/breeds/list/all\"\n",
        "    data = send_request(URL)\n",
        "\n",
        "    result = []\n",
        "    for i, breed in enumerate(data[\"message\"].keys(), 1):\n",
        "        result.append(f\"{i}. {breed}\")\n",
        "    return \"\\n\".join(result)\n",
        "\n",
        "\n",
        "def get_dog_images(*breeds):\n",
        "    images = []\n",
        "    for breed in breeds:\n",
        "        url = f\"https://dog.ceo/api/breed/{breed}/images/random\"\n",
        "        data = send_request(url)\n",
        "        image_url = data[\"message\"]\n",
        "        webbrowser.open(image_url)\n",
        "        print(f\"Ссылка на изображение {breed} - {image_url}\")\n",
        "        images.append(image_url)\n",
        "    return images\n",
        "\n",
        "\n",
        "def main():\n",
        "    all_breeds = get_list_of_all_breeds()\n",
        "    print(all_breeds)\n",
        "\n",
        "    breeds = input(\"Введите породы собак через запятую:\\n\").split(\", \")\n",
        "    get_dog_images(*breeds)\n",
        "\n",
        "\n",
        "main()\n",
        "\n",
        "\n",
        "\n"
      ]
    }
  ],
  "metadata": {
    "colab": {
      "provenance": []
    },
    "kernelspec": {
      "display_name": "Python 3",
      "name": "python3"
    },
    "language_info": {
      "name": "python"
    }
  },
  "nbformat": 4,
  "nbformat_minor": 0
}
